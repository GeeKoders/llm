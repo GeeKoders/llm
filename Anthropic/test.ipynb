{
 "cells": [
  {
   "cell_type": "code",
   "execution_count": 3,
   "id": "3c95f8f5",
   "metadata": {},
   "outputs": [
    {
     "data": {
      "text/plain": [
       "\"Here's a concise function to check for duplicate characters in a string:\\n\\n```python\\ndef has_duplicates(s):\\n    return len(s) != len(set(s))\\n```\\n\\nOr alternatively with a list comprehension:\\n\\n```python\\ndef has_duplicates(s):\\n    return any(s.count(c) > 1 for c in s)\\n```\\n\\nBoth functions return True if duplicates exist, False otherwise.\""
      ]
     },
     "execution_count": 3,
     "metadata": {},
     "output_type": "execute_result"
    }
   ],
   "source": [
    "from prompt import add_user_message, add_assistant_message, chat\n",
    "\n",
    "messages = []\n",
    "\n",
    "add_user_message(\n",
    "    messages,\n",
    "    \"Write a Python function that checks a string for duplicate characters.\"\n",
    ")\n",
    "\n",
    "answer = chat(messages, system = \"You are a Python engineer who writes very concise code\")\n",
    "\n",
    "answer"
   ]
  },
  {
   "cell_type": "code",
   "execution_count": null,
   "id": "409a0013",
   "metadata": {},
   "outputs": [],
   "source": []
  }
 ],
 "metadata": {
  "kernelspec": {
   "display_name": "llms-practice",
   "language": "python",
   "name": "python3"
  },
  "language_info": {
   "codemirror_mode": {
    "name": "ipython",
    "version": 3
   },
   "file_extension": ".py",
   "mimetype": "text/x-python",
   "name": "python",
   "nbconvert_exporter": "python",
   "pygments_lexer": "ipython3",
   "version": "3.11.13"
  }
 },
 "nbformat": 4,
 "nbformat_minor": 5
}
