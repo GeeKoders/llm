{
 "cells": [
  {
   "cell_type": "code",
   "execution_count": null,
   "id": "3c95f8f5",
   "metadata": {},
   "outputs": [
    {
     "ename": "AttributeError",
     "evalue": "'RawMessageStartEvent' object has no attribute 'choices'",
     "output_type": "error",
     "traceback": [
      "\u001b[31m---------------------------------------------------------------------------\u001b[39m",
      "\u001b[31mAttributeError\u001b[39m                            Traceback (most recent call last)",
      "\u001b[36mCell\u001b[39m\u001b[36m \u001b[39m\u001b[32mIn[13]\u001b[39m\u001b[32m, line 22\u001b[39m\n\u001b[32m     15\u001b[39m \u001b[38;5;28;01mwith\u001b[39;00m client.messages.stream(\n\u001b[32m     16\u001b[39m     model=\u001b[33m\"\u001b[39m\u001b[33mclaude-3-5-sonnet-20241022\u001b[39m\u001b[33m\"\u001b[39m,\n\u001b[32m     17\u001b[39m     max_tokens=\u001b[32m1000\u001b[39m,\n\u001b[32m     18\u001b[39m     messages=messages\n\u001b[32m     19\u001b[39m ) \u001b[38;5;28;01mas\u001b[39;00m stream:\n\u001b[32m     20\u001b[39m     \u001b[38;5;28;01mfor\u001b[39;00m chunk \u001b[38;5;129;01min\u001b[39;00m stream:\n\u001b[32m     21\u001b[39m         \u001b[38;5;66;03m# if hasattr(chunk, \"choices\"):\u001b[39;00m\n\u001b[32m---> \u001b[39m\u001b[32m22\u001b[39m         \u001b[38;5;28mprint\u001b[39m(\u001b[43mchunk\u001b[49m\u001b[43m.\u001b[49m\u001b[43mchoices\u001b[49m[\u001b[32m0\u001b[39m].message)\n",
      "\u001b[36mFile \u001b[39m\u001b[32m~/anaconda3/envs/llms-practice/lib/python3.11/site-packages/pydantic/main.py:991\u001b[39m, in \u001b[36mBaseModel.__getattr__\u001b[39m\u001b[34m(self, item)\u001b[39m\n\u001b[32m    988\u001b[39m     \u001b[38;5;28;01mreturn\u001b[39;00m \u001b[38;5;28msuper\u001b[39m().\u001b[34m__getattribute__\u001b[39m(item)  \u001b[38;5;66;03m# Raises AttributeError if appropriate\u001b[39;00m\n\u001b[32m    989\u001b[39m \u001b[38;5;28;01melse\u001b[39;00m:\n\u001b[32m    990\u001b[39m     \u001b[38;5;66;03m# this is the current error\u001b[39;00m\n\u001b[32m--> \u001b[39m\u001b[32m991\u001b[39m     \u001b[38;5;28;01mraise\u001b[39;00m \u001b[38;5;167;01mAttributeError\u001b[39;00m(\u001b[33mf\u001b[39m\u001b[33m'\u001b[39m\u001b[38;5;132;01m{\u001b[39;00m\u001b[38;5;28mtype\u001b[39m(\u001b[38;5;28mself\u001b[39m).\u001b[34m__name__\u001b[39m\u001b[38;5;132;01m!r}\u001b[39;00m\u001b[33m object has no attribute \u001b[39m\u001b[38;5;132;01m{\u001b[39;00mitem\u001b[38;5;132;01m!r}\u001b[39;00m\u001b[33m'\u001b[39m)\n",
      "\u001b[31mAttributeError\u001b[39m: 'RawMessageStartEvent' object has no attribute 'choices'"
     ]
    }
   ],
   "source": [
    "\n",
    "from prompt import add_user_message, add_assistant_message, chat\n",
    "\n",
    "messages = []\n",
    "\n",
    "add_user_message(\n",
    "    messages,\n",
    "    \"Write a Python function that checks a string for duplicate characters.\"\n",
    ")\n",
    "\n",
    "answer = chat(messages, system = \"You are a Python engineer who writes very concise code\")\n",
    "\n",
    "answer"
   ]
  },
  {
   "cell_type": "code",
   "execution_count": null,
   "id": "53bc64d3",
   "metadata": {},
   "outputs": [],
   "source": []
  }
 ],
 "metadata": {
  "kernelspec": {
   "display_name": "llms-practice",
   "language": "python",
   "name": "python3"
  },
  "language_info": {
   "codemirror_mode": {
    "name": "ipython",
    "version": 3
   },
   "file_extension": ".py",
   "mimetype": "text/x-python",
   "name": "python",
   "nbconvert_exporter": "python",
   "pygments_lexer": "ipython3",
   "version": "3.11.13"
  }
 },
 "nbformat": 4,
 "nbformat_minor": 5
}
