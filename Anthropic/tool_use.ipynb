{
 "cells": [
  {
   "cell_type": "code",
   "execution_count": 1,
   "id": "7d4a8beb",
   "metadata": {},
   "outputs": [
    {
     "data": {
      "text/plain": [
       "'I don\\'t have the ability to check current weather conditions or forecasts for San Francisco or any other location. To get accurate weather information for San Francisco, California, you could:\\n\\n1. Check a weather website like Weather.com or AccuWeather\\n2. Use a weather app on your phone\\n3. Search for \"San Francisco weather\" on a search engine\\n4. Ask a virtual assistant with internet access'"
      ]
     },
     "execution_count": 1,
     "metadata": {},
     "output_type": "execute_result"
    }
   ],
   "source": [
    "from prompt import add_user_message, add_assistant_message, chat\n",
    "from pprint import pp\n",
    "messages = []\n",
    "add_user_message(messages, \"What's the weather in San Francisco, California?\")\n",
    "answer = chat(messages)\n",
    "answer"
   ]
  },
  {
   "cell_type": "markdown",
   "id": "a9350a94",
   "metadata": {},
   "source": [
    "## Tool Use\n",
    "\n",
    "1.Initial Request: You send Claude a question along with instructions on how to get extra data from external sources\n",
    "\n",
    "2.Tool Request: Claude analyzes the question and decides it needs additional information, then asks for specific details about what data it needs\n",
    "\n",
    "3.Data Retrieval: Your server runs code to fetch the requested information from external APIs or databases\n",
    "\n",
    "4.Final Response: You send the retrieved data back to Claude, which then generates a complete response using both the original question and the fresh data\n",
    "\n",
    "**for example**:\n",
    "\n",
    "1.使用者提出問題（例如：「今天天氣如何？」）\n",
    "\n",
    "2.LLM 判斷需要呼叫特定工具（function），例如「get_weather」來獲取相關資訊\n",
    "\n",
    "3.伺服器端收到這個呼叫需求，並且用相應工具查詢資料\n",
    "\n",
    "4.工具結果回傳給 LLM，LLM 根據結果生成回答送回給使用者"
   ]
  },
  {
   "cell_type": "markdown",
   "id": "9186c8df",
   "metadata": {},
   "source": [
    "## Best Practices for Tool Functions"
   ]
  },
  {
   "cell_type": "markdown",
   "id": "ad47f141",
   "metadata": {},
   "source": [
    "* **Use descriptive names:** Both your function name and parameter names should clearly indicate their purpose\n",
    "* **Validate inputs:** Check that required parameters aren't empty or invalid, and raise errors when they are\n",
    "* **Provide meaningful error messages:** Claude can see error messages and might retry the function call with corrected parameters"
   ]
  },
  {
   "cell_type": "code",
   "execution_count": 2,
   "id": "2c06c4b5",
   "metadata": {},
   "outputs": [],
   "source": [
    "import requests\n",
    "def get_weather(location):\n",
    "    if not location or location.strip() == \"\":\n",
    "        raise ValueError(\"Location cannot be empty\")\n",
    "    \n",
    "    url = \"https://fakeweatherapi.example.com/current\"\n",
    "    params = {\n",
    "        \"q\": location,\n",
    "        \"appid\": api_key,\n",
    "        \"units\": \"metric\"\n",
    "    }\n",
    "    response = requests.get(url, params=params, timeout=10)\n",
    "    response.raise_for_status()\n",
    "    return response.json()\n"
   ]
  },
  {
   "cell_type": "code",
   "execution_count": 3,
   "id": "775f82cb",
   "metadata": {},
   "outputs": [
    {
     "data": {
      "text/plain": [
       "'2025-08-11 17:27:59'"
      ]
     },
     "execution_count": 3,
     "metadata": {},
     "output_type": "execute_result"
    }
   ],
   "source": [
    "from datetime import datetime\n",
    "def get_current_datetime(date_format=\"%Y-%m-%d %H:%M:%S\"):\n",
    "    if not date_format:\n",
    "        raise ValueError(\"date_format cannot be empty\")\n",
    "    return datetime.now().strftime(date_format)\n",
    "\n",
    "get_current_datetime()"
   ]
  },
  {
   "cell_type": "markdown",
   "id": "6373dde6",
   "metadata": {},
   "source": [
    "## JSON Schema"
   ]
  },
  {
   "cell_type": "markdown",
   "id": "584fd580",
   "metadata": {},
   "source": [
    "It has three main parts:\n",
    "\n",
    "* **name** - A clear, descriptive name for your tool (like \"get_weather\")\n",
    "* **description** - What the tool does, when to use it, and what it returns\n",
    "* **input_schema** - The actual JSON schema describing the function's arguments"
   ]
  },
  {
   "cell_type": "markdown",
   "id": "7bbe63cc",
   "metadata": {},
   "source": [
    "\"Write a valid JSON schema spec for the purposes of tool calling for this function. Follow the best practices listed in the attached documentation.\"\n",
    "\n",
    "def func():\n",
    "    ..."
   ]
  },
  {
   "cell_type": "code",
   "execution_count": 9,
   "id": "a05634e7",
   "metadata": {},
   "outputs": [
    {
     "data": {
      "text/plain": [
       "'2025-08-11 19:14:59'"
      ]
     },
     "execution_count": 9,
     "metadata": {},
     "output_type": "execute_result"
    }
   ],
   "source": [
    "from datetime import datetime\n",
    "def get_current_datetime(date_format=\"%Y-%m-%d %H:%M:%S\"):\n",
    "    if not date_format:\n",
    "        raise ValueError(\"date_format cannot be empty\")\n",
    "    return datetime.now().strftime(date_format)\n",
    "get_current_datetime()"
   ]
  },
  {
   "cell_type": "code",
   "execution_count": 1,
   "id": "839c0cf0",
   "metadata": {},
   "outputs": [],
   "source": [
    "get_current_datetime_schema = {\n",
    "  \"name\": \"get_current_datetime\",\n",
    "  \"description\": \"Get the current date and time formatted as a string. Returns the current datetime in the specified format.\",\n",
    "  \"input_schema\": {\n",
    "    \"type\": \"object\",\n",
    "    \"properties\": {\n",
    "      \"date_format\": {\n",
    "        \"type\": \"string\",\n",
    "        \"description\": \"The format string for the datetime output using Python strftime format codes. Common formats include '%Y-%m-%d %H:%M:%S' for '2023-12-25 14:30:45', '%Y-%m-%d' for '2023-12-25', '%H:%M:%S' for '14:30:45', '%B %d, %Y' for 'December 25, 2023'. Must not be empty.\",\n",
    "        \"default\": \"%Y-%m-%d %H:%M:%S\",\n",
    "        \"examples\": [\n",
    "          \"%Y-%m-%d %H:%M:%S\",\n",
    "          \"%Y-%m-%d\",\n",
    "          \"%H:%M:%S\",\n",
    "          \"%B %d, %Y\",\n",
    "          \"%A, %B %d, %Y at %I:%M %p\"\n",
    "        ]\n",
    "      }\n",
    "    },\n",
    "    \"additionalProperties\": False,\n",
    "    \"required\": []\n",
    "  }\n",
    "}"
   ]
  },
  {
   "cell_type": "markdown",
   "id": "72843b9d",
   "metadata": {},
   "source": [
    "While not strictly necessary for functionality, this prevents type errors when you use the schema with Claude's API and makes your code more robust."
   ]
  },
  {
   "cell_type": "code",
   "execution_count": 2,
   "id": "0753914c",
   "metadata": {},
   "outputs": [],
   "source": [
    "from anthropic.types import ToolParam\n",
    "get_current_datetime_schema = ToolParam({\n",
    "  \"name\": \"get_current_datetime\",\n",
    "  \"description\": \"Get the current date and time formatted as a string. Returns the current datetime in the specified format.\",\n",
    "  \"input_schema\": {\n",
    "    \"type\": \"object\",\n",
    "    \"properties\": {\n",
    "      \"date_format\": {\n",
    "        \"type\": \"string\",\n",
    "        \"description\": \"The format string for the datetime output using Python strftime format codes. Common formats include '%Y-%m-%d %H:%M:%S' for '2023-12-25 14:30:45', '%Y-%m-%d' for '2023-12-25', '%H:%M:%S' for '14:30:45', '%B %d, %Y' for 'December 25, 2023'. Must not be empty.\",\n",
    "        \"default\": \"%Y-%m-%d %H:%M:%S\",\n",
    "        \"examples\": [\n",
    "          \"%Y-%m-%d %H:%M:%S\",\n",
    "          \"%Y-%m-%d\",\n",
    "          \"%H:%M:%S\",\n",
    "          \"%B %d, %Y\",\n",
    "          \"%A, %B %d, %Y at %I:%M %p\"\n",
    "        ]\n",
    "      }\n",
    "    },\n",
    "    \"additionalProperties\": False,\n",
    "    \"required\": []\n",
    "  }\n",
    "})\n",
    "       "
   ]
  },
  {
   "cell_type": "markdown",
   "id": "a48de6a2",
   "metadata": {},
   "source": [
    "## Making Tool-Enabled API Calls"
   ]
  },
  {
   "cell_type": "code",
   "execution_count": null,
   "id": "8089d9f8",
   "metadata": {},
   "outputs": [],
   "source": [
    "messages = []\n",
    "messages.append(\n",
    "    {\n",
    "        \"role\": \"user\",\n",
    "        \"content\": \"What is the exact time, formatted as HH:MM:SS?\"\n",
    "    }\n",
    ")\n",
    "\n",
    "response = client.messages.create(\n",
    "    model=model,\n",
    "    max_tokens=1000,\n",
    "    messages=messages,\n",
    "    tools=[get_current_datetime_schema],\n",
    ")"
   ]
  },
  {
   "cell_type": "markdown",
   "id": "278440b6",
   "metadata": {},
   "source": [
    "## Multi-Block Messages"
   ]
  },
  {
   "cell_type": "markdown",
   "id": "fa914dbc",
   "metadata": {},
   "source": [
    "A multi-block message typically contains:\n",
    "\n",
    "* **Text Block** - Human-readable text explaining what Claude is doing (like \"I can help you find out the current time. Let me find that information for you\")\n",
    "* **ToolUse** Block - Instructions for your code about which tool to call and what parameters to use\n",
    "\n",
    "The ToolUse block includes:\n",
    "\n",
    "* An ID for tracking the tool call\n",
    "* The name of the function to call (like \"get_current_datetime\")\n",
    "* Input parameters formatted as a dictionary\n",
    "* The type designation \"tool_use\"\n"
   ]
  },
  {
   "cell_type": "markdown",
   "id": "bb29b999",
   "metadata": {},
   "source": [
    "## The Complete Tool Usage Flow\n"
   ]
  },
  {
   "cell_type": "markdown",
   "id": "4d83c447",
   "metadata": {},
   "source": [
    "The tool usage process follows this pattern:\n",
    "\n",
    "1. Send user message with tool schema to Claude\n",
    "2. Receive assistant message with text block and tool use block\n",
    "3. Extract tool information and execute the actual function\n",
    "4. Send tool result back to Claude along with complete conversation history\n",
    "5. Receive final response from Claude"
   ]
  },
  {
   "cell_type": "code",
   "execution_count": 2,
   "id": "7facbd75",
   "metadata": {},
   "outputs": [
    {
     "data": {
      "text/plain": [
       "Message(id='msg_01YW4f4LvfomdDyRNYQ8yArF', content=[TextBlock(citations=None, text=\"I'll get the current time for you in the HH:MM:SS format.\", type='text'), ToolUseBlock(id='toolu_01EW2ZFRmpjtXjPgS76RyMP3', input={'date_format': '%H:%M:%S'}, name='get_current_datetime', type='tool_use')], model='claude-3-7-sonnet-20250219', role='assistant', stop_reason='tool_use', stop_sequence=None, type='message', usage=Usage(cache_creation_input_tokens=0, cache_read_input_tokens=0, input_tokens=588, output_tokens=81, server_tool_use=None, service_tier='standard'))"
      ]
     },
     "execution_count": 2,
     "metadata": {},
     "output_type": "execute_result"
    }
   ],
   "source": [
    "from prompt import add_user_message, add_assistant_message, chat\n",
    "from pprint import pp\n",
    "messages = []\n",
    "add_user_message(messages, \"What is the exact time, formatted as HH:MM:SS?\")\n",
    "tools = [get_current_datetime_schema]\n",
    "response = chat(messages, tools=tools)\n",
    "response"
   ]
  },
  {
   "cell_type": "code",
   "execution_count": 3,
   "id": "d4e3cc23",
   "metadata": {},
   "outputs": [
    {
     "name": "stdout",
     "output_type": "stream",
     "text": [
      "I'll get the current time for you in the HH:MM:SS format.\n",
      "Tool call: get_current_datetime\n"
     ]
    }
   ],
   "source": [
    "for block in response.content:\n",
    "    if block.type == \"text\":\n",
    "        print(block.text)\n",
    "    elif block.type == \"tool_use\":\n",
    "        print(\"Tool call:\", block.name)"
   ]
  },
  {
   "cell_type": "code",
   "execution_count": 12,
   "id": "64fc2983",
   "metadata": {},
   "outputs": [
    {
     "data": {
      "text/plain": [
       "'19:16:01'"
      ]
     },
     "execution_count": 12,
     "metadata": {},
     "output_type": "execute_result"
    }
   ],
   "source": [
    "get_current_datetime(**response.content[1].input)"
   ]
  },
  {
   "cell_type": "markdown",
   "id": "7c83d7dd",
   "metadata": {},
   "source": [
    "## Tool Result Block"
   ]
  },
  {
   "cell_type": "markdown",
   "id": "115c4c3c",
   "metadata": {},
   "source": [
    "The tool result block has several important properties:\n",
    "\n",
    "* **tool_use_id** - Must match the id of the ToolUse block that this ToolResult corresponds to\n",
    "* **content** - Output from running your tool, serialized as a string\n",
    "* **is_error** - True if an error occurred"
   ]
  },
  {
   "cell_type": "markdown",
   "id": "935183ee",
   "metadata": {},
   "source": [
    "## Building the Follow-up Request"
   ]
  },
  {
   "cell_type": "code",
   "execution_count": 7,
   "id": "3e740c76",
   "metadata": {},
   "outputs": [
    {
     "data": {
      "text/plain": [
       "[{'role': 'user', 'content': 'What is the exact time, formatted as HH:MM:SS?'},\n",
       " {'role': 'user',\n",
       "  'content': [{'type': 'tool_result',\n",
       "    'tool_use_id': 'toolu_01EW2ZFRmpjtXjPgS76RyMP3',\n",
       "    'content': '19:25:03',\n",
       "    'is_error': False}]},\n",
       " {'role': 'user',\n",
       "  'content': [{'type': 'tool_result',\n",
       "    'tool_use_id': 'toolu_01EW2ZFRmpjtXjPgS76RyMP3',\n",
       "    'content': '19:25:03',\n",
       "    'is_error': False}]}]"
      ]
     },
     "execution_count": 7,
     "metadata": {},
     "output_type": "execute_result"
    }
   ],
   "source": [
    "messages.append({\n",
    "    \"role\": \"user\",\n",
    "    \"content\": [{\n",
    "        \"type\": \"tool_result\",\n",
    "        \"tool_use_id\": response.content[1].id,\n",
    "        \"content\": \"19:25:03\",\n",
    "        \"is_error\": False    \n",
    "    }]\n",
    "})\n",
    "messages"
   ]
  },
  {
   "cell_type": "markdown",
   "id": "dfccf094",
   "metadata": {},
   "source": [
    "The complete message history now contains:\n",
    "\n",
    "* Original user message\n",
    "* Assistant message with tool use block\n",
    "* User message with tool result block"
   ]
  },
  {
   "cell_type": "markdown",
   "id": "e2e3c2a2",
   "metadata": {},
   "source": [
    "## Making the Final Request"
   ]
  },
  {
   "cell_type": "code",
   "execution_count": 2,
   "id": "55098197",
   "metadata": {},
   "outputs": [
    {
     "data": {
      "text/plain": [
       "Message(id='msg_01EuUqJpkA6TtfVQ9aAjRCCE', content=[TextBlock(citations=None, text='The current time is 19:39:23.', type='text')], model='claude-3-7-sonnet-20250219', role='assistant', stop_reason='end_turn', stop_sequence=None, type='message', usage=Usage(cache_creation_input_tokens=0, cache_read_input_tokens=0, input_tokens=685, output_tokens=15, server_tool_use=None, service_tier='standard'))"
      ]
     },
     "execution_count": 2,
     "metadata": {},
     "output_type": "execute_result"
    }
   ],
   "source": [
    "from prompt import add_user_message, add_assistant_message, chat\n",
    "from pprint import pp\n",
    "from datetime import datetime\n",
    "from anthropic.types import ToolParam\n",
    "\n",
    "def get_current_datetime(date_format=\"%Y-%m-%d %H:%M:%S\"):\n",
    "    if not date_format:\n",
    "        raise ValueError(\"date_format cannot be empty\")\n",
    "    return datetime.now().strftime(date_format)\n",
    "\n",
    "get_current_datetime_schema = ToolParam({\n",
    "  \"name\": \"get_current_datetime\",\n",
    "  \"description\": \"Get the current date and time formatted as a string. Returns the current datetime in the specified format.\",\n",
    "  \"input_schema\": {\n",
    "    \"type\": \"object\",\n",
    "    \"properties\": {\n",
    "      \"date_format\": {\n",
    "        \"type\": \"string\",\n",
    "        \"description\": \"The format string for the datetime output using Python strftime format codes. Common formats include '%Y-%m-%d %H:%M:%S' for '2023-12-25 14:30:45', '%Y-%m-%d' for '2023-12-25', '%H:%M:%S' for '14:30:45', '%B %d, %Y' for 'December 25, 2023'. Must not be empty.\",\n",
    "        \"default\": \"%Y-%m-%d %H:%M:%S\",\n",
    "        \"examples\": [\n",
    "          \"%Y-%m-%d %H:%M:%S\",\n",
    "          \"%Y-%m-%d\",\n",
    "          \"%H:%M:%S\",\n",
    "          \"%B %d, %Y\",\n",
    "          \"%A, %B %d, %Y at %I:%M %p\"\n",
    "        ]\n",
    "      }\n",
    "    },\n",
    "    \"additionalProperties\": False,\n",
    "    \"required\": []\n",
    "  }\n",
    "})\n",
    "    \n",
    "# 1. user 問問題\n",
    "messages = []\n",
    "add_user_message(messages, \"What is the exact time, formatted as HH:MM:SS?\")\n",
    "tools = [get_current_datetime_schema]\n",
    "\n",
    "# 2. assistant 回覆（包含 tool_use block）\n",
    "response = chat(messages, tools=tools)\n",
    "for block in response.content:\n",
    "    if block.type == \"tool_use\":\n",
    "        tool_use_id = block.id\n",
    "        tool_input = block.input\n",
    "\n",
    "# 3. user 回傳 tool_result block\n",
    "messages.append({\n",
    "    \"role\": \"assistant\",\n",
    "    \"content\": response.content  # assistant 回覆的 blocks\n",
    "})\n",
    "messages.append({\n",
    "    \"role\": \"user\",\n",
    "    \"content\": [{\n",
    "        \"type\": \"tool_result\",\n",
    "        \"tool_use_id\": tool_use_id,\n",
    "        \"content\": get_current_datetime(**tool_input),\n",
    "        \"is_error\": False\n",
    "    }]\n",
    "})\n",
    "\n",
    "# 4. assistant 最終回覆\n",
    "final_response = chat(messages, tools=tools)\n",
    "final_response"
   ]
  },
  {
   "cell_type": "code",
   "execution_count": 3,
   "id": "aa92851a",
   "metadata": {},
   "outputs": [
    {
     "data": {
      "text/plain": [
       "'The current time is 19:39:23.'"
      ]
     },
     "execution_count": 3,
     "metadata": {},
     "output_type": "execute_result"
    }
   ],
   "source": [
    "final_response.content[0].text"
   ]
  },
  {
   "cell_type": "code",
   "execution_count": null,
   "id": "74b221d1",
   "metadata": {},
   "outputs": [],
   "source": []
  }
 ],
 "metadata": {
  "kernelspec": {
   "display_name": "llms-practice",
   "language": "python",
   "name": "python3"
  },
  "language_info": {
   "codemirror_mode": {
    "name": "ipython",
    "version": 3
   },
   "file_extension": ".py",
   "mimetype": "text/x-python",
   "name": "python",
   "nbconvert_exporter": "python",
   "pygments_lexer": "ipython3",
   "version": "3.11.13"
  }
 },
 "nbformat": 4,
 "nbformat_minor": 5
}
