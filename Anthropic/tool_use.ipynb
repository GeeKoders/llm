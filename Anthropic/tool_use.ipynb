{
 "cells": [
  {
   "cell_type": "code",
   "execution_count": 1,
   "id": "7d4a8beb",
   "metadata": {},
   "outputs": [
    {
     "data": {
      "text/plain": [
       "'I am not able to provide real-time weather information. To get current weather conditions in San Francisco, I recommend:\\n\\n1. Checking a weather website or app\\n2. Looking up the local weather forecast\\n3. Checking the National Weather Service website'"
      ]
     },
     "execution_count": 1,
     "metadata": {},
     "output_type": "execute_result"
    }
   ],
   "source": [
    "from prompt import add_user_message, add_assistant_message, chat\n",
    "from pprint import pp\n",
    "messages = []\n",
    "add_user_message(messages, \"What's the weather in San Francisco, California?\")\n",
    "answer = chat(messages)\n",
    "answer"
   ]
  },
  {
   "cell_type": "markdown",
   "id": "a9350a94",
   "metadata": {},
   "source": [
    "## Tool Use\n",
    "\n",
    "1.Initial Request: You send Claude a question along with instructions on how to get extra data from external sources\n",
    "\n",
    "2.Tool Request: Claude analyzes the question and decides it needs additional information, then asks for specific details about what data it needs\n",
    "\n",
    "3.Data Retrieval: Your server runs code to fetch the requested information from external APIs or databases\n",
    "\n",
    "4.Final Response: You send the retrieved data back to Claude, which then generates a complete response using both the original question and the fresh data\n",
    "\n",
    "**for example**:\n",
    "\n",
    "1.使用者提出問題（例如：「今天天氣如何？」）\n",
    "\n",
    "2.LLM 判斷需要呼叫特定工具（function），例如「get_weather」來獲取相關資訊\n",
    "\n",
    "3.伺服器端收到這個呼叫需求，並且用相應工具查詢資料\n",
    "\n",
    "4.工具結果回傳給 LLM，LLM 根據結果生成回答送回給使用者"
   ]
  },
  {
   "cell_type": "markdown",
   "id": "9186c8df",
   "metadata": {},
   "source": []
  }
 ],
 "metadata": {
  "kernelspec": {
   "display_name": "llms-practice",
   "language": "python",
   "name": "python3"
  },
  "language_info": {
   "codemirror_mode": {
    "name": "ipython",
    "version": 3
   },
   "file_extension": ".py",
   "mimetype": "text/x-python",
   "name": "python",
   "nbconvert_exporter": "python",
   "pygments_lexer": "ipython3",
   "version": "3.11.13"
  }
 },
 "nbformat": 4,
 "nbformat_minor": 5
}
