{
 "cells": [
  {
   "cell_type": "code",
   "execution_count": 1,
   "id": "7d4a8beb",
   "metadata": {},
   "outputs": [
    {
     "data": {
      "text/plain": [
       "'I don\\'t have the ability to check current weather conditions or forecasts for San Francisco or any other location. To get accurate weather information for San Francisco, California, you could:\\n\\n1. Check a weather website like Weather.com or AccuWeather\\n2. Use a weather app on your phone\\n3. Search for \"San Francisco weather\" on a search engine\\n4. Ask a virtual assistant with internet access'"
      ]
     },
     "execution_count": 1,
     "metadata": {},
     "output_type": "execute_result"
    }
   ],
   "source": [
    "from prompt import add_user_message, add_assistant_message, chat\n",
    "from pprint import pp\n",
    "messages = []\n",
    "add_user_message(messages, \"What's the weather in San Francisco, California?\")\n",
    "answer = chat(messages)\n",
    "answer"
   ]
  },
  {
   "cell_type": "markdown",
   "id": "a9350a94",
   "metadata": {},
   "source": [
    "## Tool Use\n",
    "\n",
    "1.Initial Request: You send Claude a question along with instructions on how to get extra data from external sources\n",
    "\n",
    "2.Tool Request: Claude analyzes the question and decides it needs additional information, then asks for specific details about what data it needs\n",
    "\n",
    "3.Data Retrieval: Your server runs code to fetch the requested information from external APIs or databases\n",
    "\n",
    "4.Final Response: You send the retrieved data back to Claude, which then generates a complete response using both the original question and the fresh data\n",
    "\n",
    "**for example**:\n",
    "\n",
    "1.使用者提出問題（例如：「今天天氣如何？」）\n",
    "\n",
    "2.LLM 判斷需要呼叫特定工具（function），例如「get_weather」來獲取相關資訊\n",
    "\n",
    "3.伺服器端收到這個呼叫需求，並且用相應工具查詢資料\n",
    "\n",
    "4.工具結果回傳給 LLM，LLM 根據結果生成回答送回給使用者"
   ]
  },
  {
   "cell_type": "markdown",
   "id": "9186c8df",
   "metadata": {},
   "source": [
    "## Best Practices for Tool Functions"
   ]
  },
  {
   "cell_type": "markdown",
   "id": "ad47f141",
   "metadata": {},
   "source": [
    "* **Use descriptive names:** Both your function name and parameter names should clearly indicate their purpose\n",
    "* **Validate inputs:** Check that required parameters aren't empty or invalid, and raise errors when they are\n",
    "* **Provide meaningful error messages:** Claude can see error messages and might retry the function call with corrected parameters"
   ]
  },
  {
   "cell_type": "code",
   "execution_count": 2,
   "id": "2c06c4b5",
   "metadata": {},
   "outputs": [],
   "source": [
    "import requests\n",
    "def get_weather(location):\n",
    "    if not location or location.strip() == \"\":\n",
    "        raise ValueError(\"Location cannot be empty\")\n",
    "    \n",
    "    url = \"https://fakeweatherapi.example.com/current\"\n",
    "    params = {\n",
    "        \"q\": location,\n",
    "        \"appid\": api_key,\n",
    "        \"units\": \"metric\"\n",
    "    }\n",
    "    response = requests.get(url, params=params, timeout=10)\n",
    "    response.raise_for_status()\n",
    "    return response.json()\n"
   ]
  },
  {
   "cell_type": "code",
   "execution_count": 3,
   "id": "775f82cb",
   "metadata": {},
   "outputs": [
    {
     "data": {
      "text/plain": [
       "'2025-08-11 17:27:59'"
      ]
     },
     "execution_count": 3,
     "metadata": {},
     "output_type": "execute_result"
    }
   ],
   "source": [
    "from datetime import datetime\n",
    "def get_current_datetime(date_format=\"%Y-%m-%d %H:%M:%S\"):\n",
    "    if not date_format:\n",
    "        raise ValueError(\"date_format cannot be empty\")\n",
    "    return datetime.now().strftime(date_format)\n",
    "\n",
    "get_current_datetime()"
   ]
  },
  {
   "cell_type": "markdown",
   "id": "6373dde6",
   "metadata": {},
   "source": [
    "## JSON Schema"
   ]
  },
  {
   "cell_type": "markdown",
   "id": "584fd580",
   "metadata": {},
   "source": [
    "It has three main parts:\n",
    "\n",
    "* **name** - A clear, descriptive name for your tool (like \"get_weather\")\n",
    "* **description** - What the tool does, when to use it, and what it returns\n",
    "* **input_schema** - The actual JSON schema describing the function's arguments"
   ]
  },
  {
   "cell_type": "markdown",
   "id": "7bbe63cc",
   "metadata": {},
   "source": [
    "\"Write a valid JSON schema spec for the purposes of tool calling for this function. Follow the best practices listed in the attached documentation.\"\n",
    "\n",
    "def func():\n",
    "    ..."
   ]
  },
  {
   "cell_type": "code",
   "execution_count": 9,
   "id": "a05634e7",
   "metadata": {},
   "outputs": [
    {
     "data": {
      "text/plain": [
       "'2025-08-11 19:14:59'"
      ]
     },
     "execution_count": 9,
     "metadata": {},
     "output_type": "execute_result"
    }
   ],
   "source": [
    "from datetime import datetime\n",
    "def get_current_datetime(date_format=\"%Y-%m-%d %H:%M:%S\"):\n",
    "    if not date_format:\n",
    "        raise ValueError(\"date_format cannot be empty\")\n",
    "    return datetime.now().strftime(date_format)\n",
    "get_current_datetime()"
   ]
  },
  {
   "cell_type": "code",
   "execution_count": 1,
   "id": "839c0cf0",
   "metadata": {},
   "outputs": [],
   "source": [
    "get_current_datetime_schema = {\n",
    "  \"name\": \"get_current_datetime\",\n",
    "  \"description\": \"Get the current date and time formatted as a string. Returns the current datetime in the specified format.\",\n",
    "  \"input_schema\": {\n",
    "    \"type\": \"object\",\n",
    "    \"properties\": {\n",
    "      \"date_format\": {\n",
    "        \"type\": \"string\",\n",
    "        \"description\": \"The format string for the datetime output using Python strftime format codes. Common formats include '%Y-%m-%d %H:%M:%S' for '2023-12-25 14:30:45', '%Y-%m-%d' for '2023-12-25', '%H:%M:%S' for '14:30:45', '%B %d, %Y' for 'December 25, 2023'. Must not be empty.\",\n",
    "        \"default\": \"%Y-%m-%d %H:%M:%S\",\n",
    "        \"examples\": [\n",
    "          \"%Y-%m-%d %H:%M:%S\",\n",
    "          \"%Y-%m-%d\",\n",
    "          \"%H:%M:%S\",\n",
    "          \"%B %d, %Y\",\n",
    "          \"%A, %B %d, %Y at %I:%M %p\"\n",
    "        ]\n",
    "      }\n",
    "    },\n",
    "    \"additionalProperties\": False,\n",
    "    \"required\": []\n",
    "  }\n",
    "}"
   ]
  },
  {
   "cell_type": "markdown",
   "id": "72843b9d",
   "metadata": {},
   "source": [
    "While not strictly necessary for functionality, this prevents type errors when you use the schema with Claude's API and makes your code more robust."
   ]
  },
  {
   "cell_type": "code",
   "execution_count": 2,
   "id": "0753914c",
   "metadata": {},
   "outputs": [],
   "source": [
    "from anthropic.types import ToolParam\n",
    "get_current_datetime_schema = ToolParam({\n",
    "  \"name\": \"get_current_datetime\",\n",
    "  \"description\": \"Get the current date and time formatted as a string. Returns the current datetime in the specified format.\",\n",
    "  \"input_schema\": {\n",
    "    \"type\": \"object\",\n",
    "    \"properties\": {\n",
    "      \"date_format\": {\n",
    "        \"type\": \"string\",\n",
    "        \"description\": \"The format string for the datetime output using Python strftime format codes. Common formats include '%Y-%m-%d %H:%M:%S' for '2023-12-25 14:30:45', '%Y-%m-%d' for '2023-12-25', '%H:%M:%S' for '14:30:45', '%B %d, %Y' for 'December 25, 2023'. Must not be empty.\",\n",
    "        \"default\": \"%Y-%m-%d %H:%M:%S\",\n",
    "        \"examples\": [\n",
    "          \"%Y-%m-%d %H:%M:%S\",\n",
    "          \"%Y-%m-%d\",\n",
    "          \"%H:%M:%S\",\n",
    "          \"%B %d, %Y\",\n",
    "          \"%A, %B %d, %Y at %I:%M %p\"\n",
    "        ]\n",
    "      }\n",
    "    },\n",
    "    \"additionalProperties\": False,\n",
    "    \"required\": []\n",
    "  }\n",
    "})\n",
    "       "
   ]
  },
  {
   "cell_type": "markdown",
   "id": "a48de6a2",
   "metadata": {},
   "source": [
    "## Making Tool-Enabled API Calls"
   ]
  },
  {
   "cell_type": "code",
   "execution_count": null,
   "id": "8089d9f8",
   "metadata": {},
   "outputs": [],
   "source": [
    "messages = []\n",
    "messages.append(\n",
    "    {\n",
    "        \"role\": \"user\",\n",
    "        \"content\": \"What is the exact time, formatted as HH:MM:SS?\"\n",
    "    }\n",
    ")\n",
    "\n",
    "response = client.messages.create(\n",
    "    model=model,\n",
    "    max_tokens=1000,\n",
    "    messages=messages,\n",
    "    tools=[get_current_datetime_schema],\n",
    ")"
   ]
  },
  {
   "cell_type": "markdown",
   "id": "278440b6",
   "metadata": {},
   "source": [
    "## Multi-Block Messages"
   ]
  },
  {
   "cell_type": "markdown",
   "id": "fa914dbc",
   "metadata": {},
   "source": [
    "A multi-block message typically contains:\n",
    "\n",
    "* **Text Block** - Human-readable text explaining what Claude is doing (like \"I can help you find out the current time. Let me find that information for you\")\n",
    "* **ToolUse** Block - Instructions for your code about which tool to call and what parameters to use\n",
    "\n",
    "The ToolUse block includes:\n",
    "\n",
    "* An ID for tracking the tool call\n",
    "* The name of the function to call (like \"get_current_datetime\")\n",
    "* Input parameters formatted as a dictionary\n",
    "* The type designation \"tool_use\"\n"
   ]
  },
  {
   "cell_type": "markdown",
   "id": "bb29b999",
   "metadata": {},
   "source": [
    "## The Complete Tool Usage Flow\n"
   ]
  },
  {
   "cell_type": "markdown",
   "id": "4d83c447",
   "metadata": {},
   "source": [
    "The tool usage process follows this pattern:\n",
    "\n",
    "1. Send user message with tool schema to Claude\n",
    "2. Receive assistant message with text block and tool use block\n",
    "3. Extract tool information and execute the actual function\n",
    "4. Send tool result back to Claude along with complete conversation history\n",
    "5. Receive final response from Claude"
   ]
  },
  {
   "cell_type": "code",
   "execution_count": 2,
   "id": "7facbd75",
   "metadata": {},
   "outputs": [
    {
     "data": {
      "text/plain": [
       "Message(id='msg_01YW4f4LvfomdDyRNYQ8yArF', content=[TextBlock(citations=None, text=\"I'll get the current time for you in the HH:MM:SS format.\", type='text'), ToolUseBlock(id='toolu_01EW2ZFRmpjtXjPgS76RyMP3', input={'date_format': '%H:%M:%S'}, name='get_current_datetime', type='tool_use')], model='claude-3-7-sonnet-20250219', role='assistant', stop_reason='tool_use', stop_sequence=None, type='message', usage=Usage(cache_creation_input_tokens=0, cache_read_input_tokens=0, input_tokens=588, output_tokens=81, server_tool_use=None, service_tier='standard'))"
      ]
     },
     "execution_count": 2,
     "metadata": {},
     "output_type": "execute_result"
    }
   ],
   "source": [
    "from prompt import add_user_message, add_assistant_message, chat\n",
    "from pprint import pp\n",
    "messages = []\n",
    "add_user_message(messages, \"What is the exact time, formatted as HH:MM:SS?\")\n",
    "tools = [get_current_datetime_schema]\n",
    "response = chat(messages, tools=tools)\n",
    "response"
   ]
  },
  {
   "cell_type": "code",
   "execution_count": 3,
   "id": "d4e3cc23",
   "metadata": {},
   "outputs": [
    {
     "name": "stdout",
     "output_type": "stream",
     "text": [
      "I'll get the current time for you in the HH:MM:SS format.\n",
      "Tool call: get_current_datetime\n"
     ]
    }
   ],
   "source": [
    "for block in response.content:\n",
    "    if block.type == \"text\":\n",
    "        print(block.text)\n",
    "    elif block.type == \"tool_use\":\n",
    "        print(\"Tool call:\", block.name)"
   ]
  },
  {
   "cell_type": "code",
   "execution_count": 12,
   "id": "64fc2983",
   "metadata": {},
   "outputs": [
    {
     "data": {
      "text/plain": [
       "'19:16:01'"
      ]
     },
     "execution_count": 12,
     "metadata": {},
     "output_type": "execute_result"
    }
   ],
   "source": [
    "get_current_datetime(**response.content[1].input)"
   ]
  },
  {
   "cell_type": "markdown",
   "id": "7c83d7dd",
   "metadata": {},
   "source": [
    "## Tool Result Block"
   ]
  },
  {
   "cell_type": "markdown",
   "id": "115c4c3c",
   "metadata": {},
   "source": [
    "The tool result block has several important properties:\n",
    "\n",
    "* **tool_use_id** - Must match the id of the ToolUse block that this ToolResult corresponds to\n",
    "* **content** - Output from running your tool, serialized as a string\n",
    "* **is_error** - True if an error occurred"
   ]
  },
  {
   "cell_type": "markdown",
   "id": "935183ee",
   "metadata": {},
   "source": [
    "## Building the Follow-up Request"
   ]
  },
  {
   "cell_type": "code",
   "execution_count": 7,
   "id": "3e740c76",
   "metadata": {},
   "outputs": [
    {
     "data": {
      "text/plain": [
       "[{'role': 'user', 'content': 'What is the exact time, formatted as HH:MM:SS?'},\n",
       " {'role': 'user',\n",
       "  'content': [{'type': 'tool_result',\n",
       "    'tool_use_id': 'toolu_01EW2ZFRmpjtXjPgS76RyMP3',\n",
       "    'content': '19:25:03',\n",
       "    'is_error': False}]},\n",
       " {'role': 'user',\n",
       "  'content': [{'type': 'tool_result',\n",
       "    'tool_use_id': 'toolu_01EW2ZFRmpjtXjPgS76RyMP3',\n",
       "    'content': '19:25:03',\n",
       "    'is_error': False}]}]"
      ]
     },
     "execution_count": 7,
     "metadata": {},
     "output_type": "execute_result"
    }
   ],
   "source": [
    "messages.append({\n",
    "    \"role\": \"user\",\n",
    "    \"content\": [{\n",
    "        \"type\": \"tool_result\",\n",
    "        \"tool_use_id\": response.content[1].id,\n",
    "        \"content\": \"19:25:03\",\n",
    "        \"is_error\": False    \n",
    "    }]\n",
    "})\n",
    "messages"
   ]
  },
  {
   "cell_type": "markdown",
   "id": "dfccf094",
   "metadata": {},
   "source": [
    "The complete message history now contains:\n",
    "\n",
    "* Original user message\n",
    "* Assistant message with tool use block\n",
    "* User message with tool result block"
   ]
  },
  {
   "cell_type": "markdown",
   "id": "e2e3c2a2",
   "metadata": {},
   "source": [
    "## Making the Final Request"
   ]
  },
  {
   "cell_type": "code",
   "execution_count": 2,
   "id": "55098197",
   "metadata": {},
   "outputs": [
    {
     "data": {
      "text/plain": [
       "Message(id='msg_01EuUqJpkA6TtfVQ9aAjRCCE', content=[TextBlock(citations=None, text='The current time is 19:39:23.', type='text')], model='claude-3-7-sonnet-20250219', role='assistant', stop_reason='end_turn', stop_sequence=None, type='message', usage=Usage(cache_creation_input_tokens=0, cache_read_input_tokens=0, input_tokens=685, output_tokens=15, server_tool_use=None, service_tier='standard'))"
      ]
     },
     "execution_count": 2,
     "metadata": {},
     "output_type": "execute_result"
    }
   ],
   "source": [
    "from prompt import add_user_message, add_assistant_message, chat\n",
    "from pprint import pp\n",
    "from datetime import datetime\n",
    "from anthropic.types import ToolParam\n",
    "\n",
    "def get_current_datetime(date_format=\"%Y-%m-%d %H:%M:%S\"):\n",
    "    if not date_format:\n",
    "        raise ValueError(\"date_format cannot be empty\")\n",
    "    return datetime.now().strftime(date_format)\n",
    "\n",
    "get_current_datetime_schema = ToolParam({\n",
    "  \"name\": \"get_current_datetime\",\n",
    "  \"description\": \"Get the current date and time formatted as a string. Returns the current datetime in the specified format.\",\n",
    "  \"input_schema\": {\n",
    "    \"type\": \"object\",\n",
    "    \"properties\": {\n",
    "      \"date_format\": {\n",
    "        \"type\": \"string\",\n",
    "        \"description\": \"The format string for the datetime output using Python strftime format codes. Common formats include '%Y-%m-%d %H:%M:%S' for '2023-12-25 14:30:45', '%Y-%m-%d' for '2023-12-25', '%H:%M:%S' for '14:30:45', '%B %d, %Y' for 'December 25, 2023'. Must not be empty.\",\n",
    "        \"default\": \"%Y-%m-%d %H:%M:%S\",\n",
    "        \"examples\": [\n",
    "          \"%Y-%m-%d %H:%M:%S\",\n",
    "          \"%Y-%m-%d\",\n",
    "          \"%H:%M:%S\",\n",
    "          \"%B %d, %Y\",\n",
    "          \"%A, %B %d, %Y at %I:%M %p\"\n",
    "        ]\n",
    "      }\n",
    "    },\n",
    "    \"additionalProperties\": False,\n",
    "    \"required\": []\n",
    "  }\n",
    "})\n",
    "    \n",
    "# 1. user 問問題\n",
    "messages = []\n",
    "add_user_message(messages, \"What is the exact time, formatted as HH:MM:SS?\")\n",
    "tools = [get_current_datetime_schema]\n",
    "\n",
    "# 2. assistant 回覆（包含 tool_use block）\n",
    "response = chat(messages, tools=tools)\n",
    "for block in response.content:\n",
    "    if block.type == \"tool_use\":\n",
    "        tool_use_id = block.id\n",
    "        tool_input = block.input\n",
    "\n",
    "# 3. user 回傳 tool_result block\n",
    "messages.append({\n",
    "    \"role\": \"assistant\",\n",
    "    \"content\": response.content  # assistant 回覆的 blocks\n",
    "})\n",
    "messages.append({\n",
    "    \"role\": \"user\",\n",
    "    \"content\": [{\n",
    "        \"type\": \"tool_result\",\n",
    "        \"tool_use_id\": tool_use_id,\n",
    "        \"content\": get_current_datetime(**tool_input),\n",
    "        \"is_error\": False\n",
    "    }]\n",
    "})\n",
    "\n",
    "# 4. assistant 最終回覆\n",
    "final_response = chat(messages, tools=tools)\n",
    "final_response"
   ]
  },
  {
   "cell_type": "code",
   "execution_count": 3,
   "id": "aa92851a",
   "metadata": {},
   "outputs": [
    {
     "data": {
      "text/plain": [
       "'The current time is 19:39:23.'"
      ]
     },
     "execution_count": 3,
     "metadata": {},
     "output_type": "execute_result"
    }
   ],
   "source": [
    "final_response.content[0].text"
   ]
  },
  {
   "cell_type": "markdown",
   "id": "74b221d1",
   "metadata": {},
   "source": [
    "## Building a Conversation Loop"
   ]
  },
  {
   "cell_type": "code",
   "execution_count": null,
   "id": "947addd2",
   "metadata": {},
   "outputs": [],
   "source": [
    "def run_conversation(messages):\n",
    "    while True:\n",
    "        response = chat(messages)\n",
    "        \n",
    "        add_user_message(messages, response)\n",
    "        \n",
    "        # Pseudo code\n",
    "        if response isn't asking for a tool:\n",
    "            break\n",
    "            \n",
    "        tool_result_blocks = run_tools(response)\n",
    "        add_user_message(tool_result_blocks)\n",
    "        \n",
    "    return messages"
   ]
  },
  {
   "cell_type": "markdown",
   "id": "9dbdd28b",
   "metadata": {},
   "source": [
    "## Updating Message Handlers"
   ]
  },
  {
   "cell_type": "code",
   "execution_count": 6,
   "id": "b5c5cbbb",
   "metadata": {},
   "outputs": [],
   "source": [
    "from anthropic.types import Message\n",
    "\n",
    "def add_user_message(messages, message):\n",
    "    user_message = {\n",
    "        \"role\": \"user\",\n",
    "        \"content\": message.content if isinstance(message, Message) else message\n",
    "    }\n",
    "    messages.append(user_message)"
   ]
  },
  {
   "cell_type": "markdown",
   "id": "b1a0c4cd",
   "metadata": {},
   "source": [
    "## Updating the Chat Function"
   ]
  },
  {
   "cell_type": "code",
   "execution_count": 7,
   "id": "0b43e5a9",
   "metadata": {},
   "outputs": [],
   "source": [
    "def chat(messages, system=None, temperature=1.0, stop_sequences=[], tools=None):\n",
    "    params = {\n",
    "        \"model\": model,\n",
    "        \"max_tokens\": 1000,\n",
    "        \"messages\": messages,\n",
    "        \"temperature\": temperature,\n",
    "        \"stop_sequences\": stop_sequences,\n",
    "    }\n",
    "    \n",
    "    if tools:\n",
    "        params[\"tools\"] = tools\n",
    "        \n",
    "    if system:\n",
    "        params[\"system\"] = system\n",
    "        \n",
    "    message = client.messages.create(**params)\n",
    "    return message"
   ]
  },
  {
   "cell_type": "markdown",
   "id": "158611f9",
   "metadata": {},
   "source": [
    "## Extracting Text from Messages\n"
   ]
  },
  {
   "cell_type": "code",
   "execution_count": null,
   "id": "b52f8609",
   "metadata": {},
   "outputs": [],
   "source": [
    "def text_from_message(message):\n",
    "    return \"\\n\".join(\n",
    "        [block.text for block in message.content if block.type == \"text\"]\n",
    "    )"
   ]
  },
  {
   "cell_type": "markdown",
   "id": "72c7d805",
   "metadata": {},
   "source": [
    "## Detecting Tool Requests"
   ]
  },
  {
   "cell_type": "code",
   "execution_count": null,
   "id": "5052162d",
   "metadata": {},
   "outputs": [],
   "source": [
    "if response.stop_reason != \"tool_use\":\n",
    "    break # Claude is done, no more tools needed"
   ]
  },
  {
   "cell_type": "markdown",
   "id": "99743c2a",
   "metadata": {},
   "source": [
    "## The Conversation Loop"
   ]
  },
  {
   "cell_type": "code",
   "execution_count": null,
   "id": "25483a98",
   "metadata": {},
   "outputs": [],
   "source": [
    "def run_conversation(messages):\n",
    "    while True:\n",
    "        response = chat(messages, tools=[get_current_datetime_schema])\n",
    "        add_assistant_message(messages, response)\n",
    "        print(text_from_message(response))\n",
    "        if response.stop_reason != \"tool_use\":\n",
    "            break\n",
    "        tool_result = run_tools(response)\n",
    "        add_user_message(messages, tool_result)\n",
    "    return messages"
   ]
  },
  {
   "cell_type": "markdown",
   "id": "ae9dfb55",
   "metadata": {},
   "source": [
    "## Handling Multiple Tool Calls"
   ]
  },
  {
   "cell_type": "code",
   "execution_count": null,
   "id": "91d93f7a",
   "metadata": {},
   "outputs": [],
   "source": [
    "def run_tools(response):\n",
    "    tool_requests = [\n",
    "        block for block in response.content if block.type == \"tool_use\"\n",
    "    ]\n",
    "    tool_result_blocks = []\n",
    "    for tool_request in tool_requests:\n",
    "        # Process each tool request"
   ]
  },
  {
   "cell_type": "markdown",
   "id": "0b2ea147",
   "metadata": {},
   "source": [
    "## Tool Result Blocks"
   ]
  },
  {
   "cell_type": "code",
   "execution_count": null,
   "id": "4629f546",
   "metadata": {},
   "outputs": [],
   "source": [
    "import json\n",
    "def run_tools(response):\n",
    "    tool_requests = [\n",
    "        block for block in response.content if block.type == \"tool_use\"\n",
    "    ]\n",
    "    tool_result_blocks = []\n",
    "    for tool_request in tool_requests:\n",
    "        if tool_request.name == \"get_current_datetime\":\n",
    "            tool_output = get_current_datetime(**tool_request.input)\n",
    "            tool_result_block = {\n",
    "                \"type\": \"tool_result\",\n",
    "                \"tool_use_id\": tool_request.id,\n",
    "                \"content\": json.dumps(tool_output)\n",
    "                \"is_error\": False\n",
    "            }\n",
    "        tool_result_blocks.append(tool_result_block)\n",
    "\n",
    "\n",
    "    return tool_result_blocks"
   ]
  },
  {
   "cell_type": "markdown",
   "id": "be3f90ac",
   "metadata": {},
   "source": [
    "## Error Handling"
   ]
  },
  {
   "cell_type": "code",
   "execution_count": null,
   "id": "8d4d4b9f",
   "metadata": {},
   "outputs": [],
   "source": [
    "try:\n",
    "    tool_output = run_tool(tool_request_name, **tool_request_input)\n",
    "    tool_result_block = {\n",
    "                \"type\": \"tool_result\",\n",
    "                \"tool_use_id\": tool_request.id,\n",
    "                \"content\": json.dumps(tool_output),\n",
    "                \"is_error\": False\n",
    "            }\n",
    "\n",
    "except Exception as e:\n",
    "    tool_result_block = {\n",
    "                \"type\": \"tool_result\",\n",
    "                \"tool_use_id\": tool_request.id,\n",
    "                \"content\": f\"Error: {e}\",\n",
    "                \"is_error\": True\n",
    "            }\n"
   ]
  },
  {
   "cell_type": "markdown",
   "id": "93951231",
   "metadata": {},
   "source": [
    "## Scalable Tool Routing\n"
   ]
  },
  {
   "cell_type": "code",
   "execution_count": null,
   "id": "39fe3571",
   "metadata": {},
   "outputs": [],
   "source": [
    "def run_tool(tool_name, tool_input):\n",
    "    if tool_name == \"get_current_datetime\":\n",
    "        return get_current_datetime(**tool_input)\n",
    "    elif tool_name == \"another_tool\":\n",
    "        return another_tool(**tool_input)\n",
    "    # Add more tools as needed"
   ]
  },
  {
   "cell_type": "markdown",
   "id": "93f423f9",
   "metadata": {},
   "source": [
    "## Complete Workflow\n",
    "\n",
    "* Send user message to Claude with available tools\n",
    "* Claude responds with text and/or tool requests\n",
    "* Execute all requested tools and create result blocks\n",
    "* Send tool results back as a user message\n",
    "* Repeat until Claude provides a final answer"
   ]
  },
  {
   "cell_type": "code",
   "execution_count": 9,
   "id": "4e3bfe3e",
   "metadata": {},
   "outputs": [
    {
     "name": "stdout",
     "output_type": "stream",
     "text": [
      "I'll get the current time for you in both formats you requested.\n",
      "The current time in HH:MM format is 10:36.\n",
      "The current time in HH:MM:SS format is 10:36:05.\n"
     ]
    },
    {
     "data": {
      "text/plain": [
       "[{'role': 'user',\n",
       "  'content': 'What is the current time in HH:MM format? Also, what is the current time in HH:MM:SS format?'},\n",
       " {'role': 'assistant',\n",
       "  'content': [TextBlock(citations=None, text=\"I'll get the current time for you in both formats you requested.\", type='text'),\n",
       "   ToolUseBlock(id='toolu_016XmwD72UBuck9pakb4arAc', input={'date_format': '%H:%M'}, name='get_current_datetime', type='tool_use')]},\n",
       " {'role': 'user',\n",
       "  'content': [{'type': 'tool_result',\n",
       "    'tool_use_id': 'toolu_016XmwD72UBuck9pakb4arAc',\n",
       "    'content': '\"10:36\"',\n",
       "    'is_error': False}]},\n",
       " {'role': 'assistant',\n",
       "  'content': [TextBlock(citations=None, text='The current time in HH:MM format is 10:36.', type='text'),\n",
       "   ToolUseBlock(id='toolu_01QeCwCwRghcizxczGjQYC3P', input={'date_format': '%H:%M:%S'}, name='get_current_datetime', type='tool_use')]},\n",
       " {'role': 'user',\n",
       "  'content': [{'type': 'tool_result',\n",
       "    'tool_use_id': 'toolu_01QeCwCwRghcizxczGjQYC3P',\n",
       "    'content': '\"10:36:05\"',\n",
       "    'is_error': False}]},\n",
       " {'role': 'assistant',\n",
       "  'content': [TextBlock(citations=None, text='The current time in HH:MM:SS format is 10:36:05.', type='text')]}]"
      ]
     },
     "execution_count": 9,
     "metadata": {},
     "output_type": "execute_result"
    }
   ],
   "source": [
    "from prompt import add_user_message, add_assistant_message, chat\n",
    "from pprint import pp\n",
    "from datetime import datetime\n",
    "from anthropic.types import ToolParam\n",
    "import json\n",
    "\n",
    "def get_current_datetime(date_format=\"%Y-%m-%d %H:%M:%S\"):\n",
    "    if not date_format:\n",
    "        raise ValueError(\"date_format cannot be empty\")\n",
    "    return datetime.now().strftime(date_format)\n",
    "\n",
    "get_current_datetime_schema = ToolParam({\n",
    "    \"name\": \"get_current_datetime\",\n",
    "    \"description\": \"Get the current date and time formatted as a string. Returns the current datetime in the specified format.\",\n",
    "    \"input_schema\": {\n",
    "        \"type\": \"object\",\n",
    "        \"properties\": {\n",
    "        \"date_format\": {\n",
    "            \"type\": \"string\",\n",
    "            \"description\": \"The format string for the datetime output using Python strftime format codes. Common formats include '%Y-%m-%d %H:%M:%S' for '2023-12-25 14:30:45', '%Y-%m-%d' for '2023-12-25', '%H:%M:%S' for '14:30:45', '%B %d, %Y' for 'December 25, 2023'. Must not be empty.\",\n",
    "            \"default\": \"%Y-%m-%d %H:%M:%S\",\n",
    "            \"examples\": [\n",
    "            \"%Y-%m-%d %H:%M:%S\",\n",
    "            \"%Y-%m-%d\",\n",
    "            \"%H:%M:%S\",\n",
    "            \"%B %d, %Y\",\n",
    "            \"%A, %B %d, %Y at %I:%M %p\"\n",
    "            ]\n",
    "        }\n",
    "        },\n",
    "        \"additionalProperties\": False,\n",
    "        \"required\": []\n",
    "    }\n",
    "})\n",
    "\n",
    "def text_from_message(message):\n",
    "    return \"\\n\".join(\n",
    "        [block.text for block in message.content if block.type == \"text\"]\n",
    "    )\n",
    "\n",
    "def run_tool(tool_name, tool_input):\n",
    "    if tool_name == \"get_current_datetime\":\n",
    "        return get_current_datetime(**tool_input)\n",
    "\n",
    "def run_tools(message):\n",
    "    tool_requests = [\n",
    "        block for block in message.content if block.type == \"tool_use\"\n",
    "    ]\n",
    "    tool_result_blocks = []\n",
    "\n",
    "    for tool_request in tool_requests:\n",
    "        try:\n",
    "            tool_output = run_tool(tool_request.name, tool_request.input)\n",
    "            tool_result_block = {\n",
    "                \"type\": \"tool_result\",\n",
    "                \"tool_use_id\": tool_request.id,\n",
    "                \"content\": json.dumps(tool_output),\n",
    "                \"is_error\": False,\n",
    "            }\n",
    "        except Exception as e:\n",
    "            tool_result_block = {\n",
    "                \"type\": \"tool_result\",\n",
    "                \"tool_use_id\": tool_request.id,\n",
    "                \"content\": f\"Error: {e}\",\n",
    "                \"is_error\": True,\n",
    "            }\n",
    "\n",
    "        tool_result_blocks.append(tool_result_block)\n",
    "\n",
    "    return tool_result_blocks\n",
    "\n",
    "def run_conversation(messages):\n",
    "    while True:\n",
    "        response = chat(messages, tools=[get_current_datetime_schema])\n",
    "\n",
    "        add_assistant_message(messages, response)\n",
    "        print(text_from_message(response))\n",
    "\n",
    "        if response.stop_reason != \"tool_use\":\n",
    "            break\n",
    "\n",
    "        tool_results = run_tools(response)\n",
    "        add_user_message(messages, tool_results)\n",
    "\n",
    "    return messages\n",
    "\n",
    "messages = []\n",
    "add_user_message(\n",
    "    messages,\n",
    "    \"What is the current time in HH:MM format? Also, what is the current time in HH:MM:SS format?\",\n",
    ")\n",
    "run_conversation(messages)"
   ]
  },
  {
   "cell_type": "markdown",
   "id": "7015c6bb",
   "metadata": {},
   "source": [
    "## The Simple Pattern for Adding Tools\n",
    "\n",
    "1. Create the tool function implementation\n",
    "2. Define the tool schema\n",
    "3. Add the schema to the tools list in run_conversation\n",
    "4. Add a case for the tool in run_tool"
   ]
  },
  {
   "cell_type": "code",
   "execution_count": 11,
   "id": "dfcd39b4",
   "metadata": {},
   "outputs": [
    {
     "name": "stdout",
     "output_type": "stream",
     "text": [
      "I'll help you set a reminder for your doctor's appointment. First, I need to calculate the exact date that is 177 days after January 1st, 2050.\n",
      "Now I'll set a reminder for your doctor's appointment on June 27, 2050:\n",
      "----\n",
      "Setting the following reminder for 2050-06-27T00:00:00:\n",
      "Doctor's appointment\n",
      "----\n",
      "I've set a reminder for your doctor's appointment on Monday, June 27, 2050. You'll receive a notification on that day to remind you of your appointment.\n"
     ]
    },
    {
     "data": {
      "text/plain": [
       "[{'role': 'user',\n",
       "  'content': \"Set a reminder for my doctor's appointmet. It's 177 days after Jan 1st, 2050.\"},\n",
       " {'role': 'assistant',\n",
       "  'content': [TextBlock(citations=None, text=\"I'll help you set a reminder for your doctor's appointment. First, I need to calculate the exact date that is 177 days after January 1st, 2050.\", type='text'),\n",
       "   ToolUseBlock(id='toolu_01HcUQw2VqxcKg24xWkBbyr9', input={'datetime_str': '2050-01-01', 'duration': 177, 'unit': 'days', 'input_format': '%Y-%m-%d'}, name='add_duration_to_datetime', type='tool_use')]},\n",
       " {'role': 'user',\n",
       "  'content': [{'type': 'tool_result',\n",
       "    'tool_use_id': 'toolu_01HcUQw2VqxcKg24xWkBbyr9',\n",
       "    'content': '\"Monday, June 27, 2050 12:00:00 AM\"',\n",
       "    'is_error': False}]},\n",
       " {'role': 'assistant',\n",
       "  'content': [TextBlock(citations=None, text=\"Now I'll set a reminder for your doctor's appointment on June 27, 2050:\", type='text'),\n",
       "   ToolUseBlock(id='toolu_013ngkUk9V5Tcjc6AHJQmW4j', input={'content': \"Doctor's appointment\", 'timestamp': '2050-06-27T00:00:00'}, name='set_reminder', type='tool_use')]},\n",
       " {'role': 'user',\n",
       "  'content': [{'type': 'tool_result',\n",
       "    'tool_use_id': 'toolu_013ngkUk9V5Tcjc6AHJQmW4j',\n",
       "    'content': 'null',\n",
       "    'is_error': False}]},\n",
       " {'role': 'assistant',\n",
       "  'content': [TextBlock(citations=None, text=\"I've set a reminder for your doctor's appointment on Monday, June 27, 2050. You'll receive a notification on that day to remind you of your appointment.\", type='text')]}]"
      ]
     },
     "execution_count": 11,
     "metadata": {},
     "output_type": "execute_result"
    }
   ],
   "source": [
    "from prompt import add_user_message, add_assistant_message, chat\n",
    "from pprint import pp\n",
    "from datetime import datetime, timedelta\n",
    "from anthropic.types import ToolParam\n",
    "import json\n",
    "\n",
    "def get_current_datetime(date_format=\"%Y-%m-%d %H:%M:%S\"):\n",
    "    if not date_format:\n",
    "        raise ValueError(\"date_format cannot be empty\")\n",
    "    return datetime.now().strftime(date_format)\n",
    "\n",
    "get_current_datetime_schema = ToolParam({\n",
    "    \"name\": \"get_current_datetime\",\n",
    "    \"description\": \"Get the current date and time formatted as a string. Returns the current datetime in the specified format.\",\n",
    "    \"input_schema\": {\n",
    "        \"type\": \"object\",\n",
    "        \"properties\": {\n",
    "        \"date_format\": {\n",
    "            \"type\": \"string\",\n",
    "            \"description\": \"The format string for the datetime output using Python strftime format codes. Common formats include '%Y-%m-%d %H:%M:%S' for '2023-12-25 14:30:45', '%Y-%m-%d' for '2023-12-25', '%H:%M:%S' for '14:30:45', '%B %d, %Y' for 'December 25, 2023'. Must not be empty.\",\n",
    "            \"default\": \"%Y-%m-%d %H:%M:%S\",\n",
    "            \"examples\": [\n",
    "            \"%Y-%m-%d %H:%M:%S\",\n",
    "            \"%Y-%m-%d\",\n",
    "            \"%H:%M:%S\",\n",
    "            \"%B %d, %Y\",\n",
    "            \"%A, %B %d, %Y at %I:%M %p\"\n",
    "            ]\n",
    "        }\n",
    "        },\n",
    "        \"additionalProperties\": False,\n",
    "        \"required\": []\n",
    "    }\n",
    "})\n",
    "\n",
    "def add_duration_to_datetime(\n",
    "    datetime_str, duration=0, unit=\"days\", input_format=\"%Y-%m-%d\"\n",
    "):\n",
    "    date = datetime.strptime(datetime_str, input_format)\n",
    "\n",
    "    if unit == \"seconds\":\n",
    "        new_date = date + timedelta(seconds=duration)\n",
    "    elif unit == \"minutes\":\n",
    "        new_date = date + timedelta(minutes=duration)\n",
    "    elif unit == \"hours\":\n",
    "        new_date = date + timedelta(hours=duration)\n",
    "    elif unit == \"days\":\n",
    "        new_date = date + timedelta(days=duration)\n",
    "    elif unit == \"weeks\":\n",
    "        new_date = date + timedelta(weeks=duration)\n",
    "    elif unit == \"months\":\n",
    "        month = date.month + duration\n",
    "        year = date.year + month // 12\n",
    "        month = month % 12\n",
    "        if month == 0:\n",
    "            month = 12\n",
    "            year -= 1\n",
    "        day = min(\n",
    "            date.day,\n",
    "            [\n",
    "                31,\n",
    "                29\n",
    "                if year % 4 == 0 and (year % 100 != 0 or year % 400 == 0)\n",
    "                else 28,\n",
    "                31,\n",
    "                30,\n",
    "                31,\n",
    "                30,\n",
    "                31,\n",
    "                31,\n",
    "                30,\n",
    "                31,\n",
    "                30,\n",
    "                31,\n",
    "            ][month - 1],\n",
    "        )\n",
    "        new_date = date.replace(year=year, month=month, day=day)\n",
    "    elif unit == \"years\":\n",
    "        new_date = date.replace(year=date.year + duration)\n",
    "    else:\n",
    "        raise ValueError(f\"Unsupported time unit: {unit}\")\n",
    "\n",
    "    return new_date.strftime(\"%A, %B %d, %Y %I:%M:%S %p\")\n",
    "\n",
    "add_duration_to_datetime_schema = {\n",
    "    \"name\": \"add_duration_to_datetime\",\n",
    "    \"description\": \"Adds a specified duration to a datetime string and returns the resulting datetime in a detailed format. This tool converts an input datetime string to a Python datetime object, adds the specified duration in the requested unit, and returns a formatted string of the resulting datetime. It handles various time units including seconds, minutes, hours, days, weeks, months, and years, with special handling for month and year calculations to account for varying month lengths and leap years. The output is always returned in a detailed format that includes the day of the week, month name, day, year, and time with AM/PM indicator (e.g., 'Thursday, April 03, 2025 10:30:00 AM').\",\n",
    "    \"input_schema\": {\n",
    "        \"type\": \"object\",\n",
    "        \"properties\": {\n",
    "            \"datetime_str\": {\n",
    "                \"type\": \"string\",\n",
    "                \"description\": \"The input datetime string to which the duration will be added. This should be formatted according to the input_format parameter.\",\n",
    "            },\n",
    "            \"duration\": {\n",
    "                \"type\": \"number\",\n",
    "                \"description\": \"The amount of time to add to the datetime. Can be positive (for future dates) or negative (for past dates). Defaults to 0.\",\n",
    "            },\n",
    "            \"unit\": {\n",
    "                \"type\": \"string\",\n",
    "                \"description\": \"The unit of time for the duration. Must be one of: 'seconds', 'minutes', 'hours', 'days', 'weeks', 'months', or 'years'. Defaults to 'days'.\",\n",
    "            },\n",
    "            \"input_format\": {\n",
    "                \"type\": \"string\",\n",
    "                \"description\": \"The format string for parsing the input datetime_str, using Python's strptime format codes. For example, '%Y-%m-%d' for ISO format dates like '2025-04-03'. Defaults to '%Y-%m-%d'.\",\n",
    "            },\n",
    "        },\n",
    "        \"required\": [\"datetime_str\"],\n",
    "    },\n",
    "}\n",
    "\n",
    "def set_reminder(content, timestamp):\n",
    "    print(\n",
    "        f\"----\\nSetting the following reminder for {timestamp}:\\n{content}\\n----\"\n",
    "    )\n",
    "\n",
    "set_reminder_schema = {\n",
    "    \"name\": \"set_reminder\",\n",
    "    \"description\": \"Creates a timed reminder that will notify the user at the specified time with the provided content. This tool schedules a notification to be delivered to the user at the exact timestamp provided. It should be used when a user wants to be reminded about something specific at a future point in time. The reminder system will store the content and timestamp, then trigger a notification through the user's preferred notification channels (mobile alerts, email, etc.) when the specified time arrives. Reminders are persisted even if the application is closed or the device is restarted. Users can rely on this function for important time-sensitive notifications such as meetings, tasks, medication schedules, or any other time-bound activities.\",\n",
    "    \"input_schema\": {\n",
    "        \"type\": \"object\",\n",
    "        \"properties\": {\n",
    "            \"content\": {\n",
    "                \"type\": \"string\",\n",
    "                \"description\": \"The message text that will be displayed in the reminder notification. This should contain the specific information the user wants to be reminded about, such as 'Take medication', 'Join video call with team', or 'Pay utility bills'.\",\n",
    "            },\n",
    "            \"timestamp\": {\n",
    "                \"type\": \"string\",\n",
    "                \"description\": \"The exact date and time when the reminder should be triggered, formatted as an ISO 8601 timestamp (YYYY-MM-DDTHH:MM:SS) or a Unix timestamp. The system handles all timezone processing internally, ensuring reminders are triggered at the correct time regardless of where the user is located. Users can simply specify the desired time without worrying about timezone configurations.\",\n",
    "            },\n",
    "        },\n",
    "        \"required\": [\"content\", \"timestamp\"],\n",
    "    },\n",
    "}\n",
    "\n",
    "def text_from_message(message):\n",
    "    return \"\\n\".join(\n",
    "        [block.text for block in message.content if block.type == \"text\"]\n",
    "    )\n",
    "\n",
    "def run_tool(tool_name, tool_input):\n",
    "    if tool_name == \"get_current_datetime\":\n",
    "        return get_current_datetime(**tool_input)\n",
    "    elif tool_name == \"add_duration_to_datetime\":\n",
    "        return add_duration_to_datetime(**tool_input)\n",
    "    elif tool_name == \"set_reminder\":\n",
    "        return set_reminder(**tool_input)\n",
    "\n",
    "def run_tools(message):\n",
    "    tool_requests = [\n",
    "        block for block in message.content if block.type == \"tool_use\"\n",
    "    ]\n",
    "    tool_result_blocks = []\n",
    "\n",
    "    for tool_request in tool_requests:\n",
    "        try:\n",
    "            tool_output = run_tool(tool_request.name, tool_request.input)\n",
    "            tool_result_block = {\n",
    "                \"type\": \"tool_result\",\n",
    "                \"tool_use_id\": tool_request.id,\n",
    "                \"content\": json.dumps(tool_output),\n",
    "                \"is_error\": False,\n",
    "            }\n",
    "        except Exception as e:\n",
    "            tool_result_block = {\n",
    "                \"type\": \"tool_result\",\n",
    "                \"tool_use_id\": tool_request.id,\n",
    "                \"content\": f\"Error: {e}\",\n",
    "                \"is_error\": True,\n",
    "            }\n",
    "\n",
    "        tool_result_blocks.append(tool_result_block)\n",
    "\n",
    "    return tool_result_blocks\n",
    "\n",
    "def run_conversation(messages):\n",
    "    while True:\n",
    "        response = chat(messages, tools=[get_current_datetime_schema, add_duration_to_datetime_schema, set_reminder_schema])\n",
    "\n",
    "        add_assistant_message(messages, response)\n",
    "        print(text_from_message(response))\n",
    "\n",
    "        if response.stop_reason != \"tool_use\":\n",
    "            break\n",
    "\n",
    "        tool_results = run_tools(response)\n",
    "        add_user_message(messages, tool_results)\n",
    "\n",
    "    return messages\n",
    "\n",
    "messages = []\n",
    "add_user_message(\n",
    "    messages,\n",
    "    \"Set a reminder for my doctor's appointmet. It's 177 days after Jan 1st, 2050.\",\n",
    ")\n",
    "run_conversation(messages)"
   ]
  },
  {
   "cell_type": "markdown",
   "id": "931b00f4",
   "metadata": {},
   "source": [
    "## How the Batch Tool Works\n",
    "\n",
    "The batch tool receives a list of invocations, where each invocation specifies:\n",
    "\n",
    "* The name of the tool to call\n",
    "* The arguments to pass to that tool"
   ]
  },
  {
   "cell_type": "markdown",
   "id": "d62e2e46",
   "metadata": {},
   "source": [
    "## Implementing the Batch Tool Schema\n"
   ]
  },
  {
   "cell_type": "code",
   "execution_count": 12,
   "id": "81d37c2b",
   "metadata": {},
   "outputs": [],
   "source": [
    "from anthropic.types import ToolParam\n",
    "\n",
    "batch_tool_schema = ToolParam({\n",
    "    \"name\": \"batch_tool\",\n",
    "    \"description\": \"Invoke multiple other tool calls simultaneously\",\n",
    "    \"input_schema\": {\n",
    "        \"type\": \"object\",\n",
    "        \"properties\": {\n",
    "            \"invocations\": {\n",
    "                \"type\": \"array\",\n",
    "                \"description\": \"The tool calls to invoke\",\n",
    "                \"items\": {\n",
    "                    \"type\": \"object\",\n",
    "                    \"properties\": {\n",
    "                        \"name\": {\n",
    "                            \"type\": \"string\",\n",
    "                            \"description\": \"The name of the tool to invoke\"\n",
    "                        },\n",
    "                        \"arguments\": {\n",
    "                            \"type\": \"object\",\n",
    "                            \"description\": \"The arguments to pass to the tool\"\n",
    "                        }\n",
    "                    }\n",
    "                }\n",
    "            }\n",
    "        }\n",
    "    }\n",
    "})\n"
   ]
  },
  {
   "cell_type": "markdown",
   "id": "f253a6d2",
   "metadata": {},
   "source": [
    "## Implementing the Batch Function"
   ]
  },
  {
   "cell_type": "code",
   "execution_count": 13,
   "id": "6855151e",
   "metadata": {},
   "outputs": [],
   "source": [
    "import json\n",
    "def run_batch(invocations=[]):\n",
    "    batch_output = []\n",
    "    for invocation in invocations:\n",
    "        name = invocation[\"name\"]\n",
    "        args = json.loads(invocation[\"arguments\"])\n",
    "        \n",
    "        tool_output = run_tool(name, args)\n",
    "\n",
    "        batch_output.append({\n",
    "            \"tool_name\": name,\n",
    "            \"output\": tool_output\n",
    "        })\n",
    "\n",
    "    return batch_output\n",
    "\n"
   ]
  },
  {
   "cell_type": "markdown",
   "id": "1d82d9a0",
   "metadata": {},
   "source": [
    "This function:\n",
    "\n",
    "1. Iterates through each invocation in the list\n",
    "2. Extracts the tool name and arguments\n",
    "3. Calls the appropriate tool using your existing run_tool function\n",
    "4. Collects all the results into a batch output list\n"
   ]
  },
  {
   "cell_type": "code",
   "execution_count": 14,
   "id": "935ae820",
   "metadata": {},
   "outputs": [],
   "source": [
    "def run_tool(tool_name, tool_input):\n",
    "    if tool_name == \"get_current_datetime\":\n",
    "        return get_current_datetime(**tool_input)\n",
    "    elif tool_name == \"add_duration_to_datetime\":\n",
    "        return add_duration_to_datetime(**tool_input)\n",
    "    elif tool_name == \"set_reminder\":\n",
    "        return set_reminder(**tool_input)\n",
    "    elif tool_name == \"batch_tool\":\n",
    "        return run_batch(**tool_input)"
   ]
  },
  {
   "cell_type": "code",
   "execution_count": 15,
   "id": "09728400",
   "metadata": {},
   "outputs": [
    {
     "name": "stdout",
     "output_type": "stream",
     "text": [
      "I'll set those two reminders for you for January 1, 2025 at 8:00 AM.\n",
      "\n",
      "First, I need to format the date and time properly for the reminder system:\n",
      "I apologize for the error. Let me set those reminders individually:\n",
      "----\n",
      "Setting the following reminder for 2025-01-01T08:00:00:\n",
      "I have a doctors appointment\n",
      "----\n",
      "\n",
      "----\n",
      "Setting the following reminder for 2025-01-01T08:00:00:\n",
      "Taxes are due\n",
      "----\n",
      "Great! I've successfully set both reminders for January 1, 2025 at 8:00 AM:\n",
      "\n",
      "1. \"I have a doctors appointment\"\n",
      "2. \"Taxes are due\"\n",
      "\n",
      "Both reminders will notify you at the same time on New Year's Day 2025.\n"
     ]
    },
    {
     "data": {
      "text/plain": [
       "[{'role': 'user',\n",
       "  'content': '\\n        Set two reminders for Jan 1, 2025 at 8 AM:\\n            * I have a doctors appointment\\n            * Taxes are due          \\n    '},\n",
       " {'role': 'assistant',\n",
       "  'content': [TextBlock(citations=None, text=\"I'll set those two reminders for you for January 1, 2025 at 8:00 AM.\\n\\nFirst, I need to format the date and time properly for the reminder system:\", type='text'),\n",
       "   ToolUseBlock(id='toolu_01GTDV85BkVo5NzDb4nt2aDZ', input={'invocations': [{'name': 'set_reminder', 'arguments': {'content': 'I have a doctors appointment', 'timestamp': '2025-01-01T08:00:00'}}, {'name': 'set_reminder', 'arguments': {'content': 'Taxes are due', 'timestamp': '2025-01-01T08:00:00'}}]}, name='batch_tool', type='tool_use')]},\n",
       " {'role': 'user',\n",
       "  'content': [{'type': 'tool_result',\n",
       "    'tool_use_id': 'toolu_01GTDV85BkVo5NzDb4nt2aDZ',\n",
       "    'content': 'Error: the JSON object must be str, bytes or bytearray, not dict',\n",
       "    'is_error': True}]},\n",
       " {'role': 'assistant',\n",
       "  'content': [TextBlock(citations=None, text='I apologize for the error. Let me set those reminders individually:', type='text'),\n",
       "   ToolUseBlock(id='toolu_01BAT4qsGtEMacnXsjax9c5k', input={'content': 'I have a doctors appointment', 'timestamp': '2025-01-01T08:00:00'}, name='set_reminder', type='tool_use')]},\n",
       " {'role': 'user',\n",
       "  'content': [{'type': 'tool_result',\n",
       "    'tool_use_id': 'toolu_01BAT4qsGtEMacnXsjax9c5k',\n",
       "    'content': 'null',\n",
       "    'is_error': False}]},\n",
       " {'role': 'assistant',\n",
       "  'content': [ToolUseBlock(id='toolu_01MrFWyPusLsageGXHY2TbTf', input={'content': 'Taxes are due', 'timestamp': '2025-01-01T08:00:00'}, name='set_reminder', type='tool_use')]},\n",
       " {'role': 'user',\n",
       "  'content': [{'type': 'tool_result',\n",
       "    'tool_use_id': 'toolu_01MrFWyPusLsageGXHY2TbTf',\n",
       "    'content': 'null',\n",
       "    'is_error': False}]},\n",
       " {'role': 'assistant',\n",
       "  'content': [TextBlock(citations=None, text='Great! I\\'ve successfully set both reminders for January 1, 2025 at 8:00 AM:\\n\\n1. \"I have a doctors appointment\"\\n2. \"Taxes are due\"\\n\\nBoth reminders will notify you at the same time on New Year\\'s Day 2025.', type='text')]}]"
      ]
     },
     "execution_count": 15,
     "metadata": {},
     "output_type": "execute_result"
    }
   ],
   "source": [
    "from prompt import add_user_message, add_assistant_message, chat\n",
    "from pprint import pp\n",
    "from datetime import datetime, timedelta\n",
    "from anthropic.types import ToolParam\n",
    "import json\n",
    "\n",
    "def get_current_datetime(date_format=\"%Y-%m-%d %H:%M:%S\"):\n",
    "    if not date_format:\n",
    "        raise ValueError(\"date_format cannot be empty\")\n",
    "    return datetime.now().strftime(date_format)\n",
    "\n",
    "get_current_datetime_schema = ToolParam({\n",
    "    \"name\": \"get_current_datetime\",\n",
    "    \"description\": \"Get the current date and time formatted as a string. Returns the current datetime in the specified format.\",\n",
    "    \"input_schema\": {\n",
    "        \"type\": \"object\",\n",
    "        \"properties\": {\n",
    "        \"date_format\": {\n",
    "            \"type\": \"string\",\n",
    "            \"description\": \"The format string for the datetime output using Python strftime format codes. Common formats include '%Y-%m-%d %H:%M:%S' for '2023-12-25 14:30:45', '%Y-%m-%d' for '2023-12-25', '%H:%M:%S' for '14:30:45', '%B %d, %Y' for 'December 25, 2023'. Must not be empty.\",\n",
    "            \"default\": \"%Y-%m-%d %H:%M:%S\",\n",
    "            \"examples\": [\n",
    "            \"%Y-%m-%d %H:%M:%S\",\n",
    "            \"%Y-%m-%d\",\n",
    "            \"%H:%M:%S\",\n",
    "            \"%B %d, %Y\",\n",
    "            \"%A, %B %d, %Y at %I:%M %p\"\n",
    "            ]\n",
    "        }\n",
    "        },\n",
    "        \"additionalProperties\": False,\n",
    "        \"required\": []\n",
    "    }\n",
    "})\n",
    "\n",
    "def add_duration_to_datetime(\n",
    "    datetime_str, duration=0, unit=\"days\", input_format=\"%Y-%m-%d\"\n",
    "):\n",
    "    date = datetime.strptime(datetime_str, input_format)\n",
    "\n",
    "    if unit == \"seconds\":\n",
    "        new_date = date + timedelta(seconds=duration)\n",
    "    elif unit == \"minutes\":\n",
    "        new_date = date + timedelta(minutes=duration)\n",
    "    elif unit == \"hours\":\n",
    "        new_date = date + timedelta(hours=duration)\n",
    "    elif unit == \"days\":\n",
    "        new_date = date + timedelta(days=duration)\n",
    "    elif unit == \"weeks\":\n",
    "        new_date = date + timedelta(weeks=duration)\n",
    "    elif unit == \"months\":\n",
    "        month = date.month + duration\n",
    "        year = date.year + month // 12\n",
    "        month = month % 12\n",
    "        if month == 0:\n",
    "            month = 12\n",
    "            year -= 1\n",
    "        day = min(\n",
    "            date.day,\n",
    "            [\n",
    "                31,\n",
    "                29\n",
    "                if year % 4 == 0 and (year % 100 != 0 or year % 400 == 0)\n",
    "                else 28,\n",
    "                31,\n",
    "                30,\n",
    "                31,\n",
    "                30,\n",
    "                31,\n",
    "                31,\n",
    "                30,\n",
    "                31,\n",
    "                30,\n",
    "                31,\n",
    "            ][month - 1],\n",
    "        )\n",
    "        new_date = date.replace(year=year, month=month, day=day)\n",
    "    elif unit == \"years\":\n",
    "        new_date = date.replace(year=date.year + duration)\n",
    "    else:\n",
    "        raise ValueError(f\"Unsupported time unit: {unit}\")\n",
    "\n",
    "    return new_date.strftime(\"%A, %B %d, %Y %I:%M:%S %p\")\n",
    "\n",
    "add_duration_to_datetime_schema = {\n",
    "    \"name\": \"add_duration_to_datetime\",\n",
    "    \"description\": \"Adds a specified duration to a datetime string and returns the resulting datetime in a detailed format. This tool converts an input datetime string to a Python datetime object, adds the specified duration in the requested unit, and returns a formatted string of the resulting datetime. It handles various time units including seconds, minutes, hours, days, weeks, months, and years, with special handling for month and year calculations to account for varying month lengths and leap years. The output is always returned in a detailed format that includes the day of the week, month name, day, year, and time with AM/PM indicator (e.g., 'Thursday, April 03, 2025 10:30:00 AM').\",\n",
    "    \"input_schema\": {\n",
    "        \"type\": \"object\",\n",
    "        \"properties\": {\n",
    "            \"datetime_str\": {\n",
    "                \"type\": \"string\",\n",
    "                \"description\": \"The input datetime string to which the duration will be added. This should be formatted according to the input_format parameter.\",\n",
    "            },\n",
    "            \"duration\": {\n",
    "                \"type\": \"number\",\n",
    "                \"description\": \"The amount of time to add to the datetime. Can be positive (for future dates) or negative (for past dates). Defaults to 0.\",\n",
    "            },\n",
    "            \"unit\": {\n",
    "                \"type\": \"string\",\n",
    "                \"description\": \"The unit of time for the duration. Must be one of: 'seconds', 'minutes', 'hours', 'days', 'weeks', 'months', or 'years'. Defaults to 'days'.\",\n",
    "            },\n",
    "            \"input_format\": {\n",
    "                \"type\": \"string\",\n",
    "                \"description\": \"The format string for parsing the input datetime_str, using Python's strptime format codes. For example, '%Y-%m-%d' for ISO format dates like '2025-04-03'. Defaults to '%Y-%m-%d'.\",\n",
    "            },\n",
    "        },\n",
    "        \"required\": [\"datetime_str\"],\n",
    "    },\n",
    "}\n",
    "\n",
    "def set_reminder(content, timestamp):\n",
    "    print(\n",
    "        f\"----\\nSetting the following reminder for {timestamp}:\\n{content}\\n----\"\n",
    "    )\n",
    "\n",
    "set_reminder_schema = {\n",
    "    \"name\": \"set_reminder\",\n",
    "    \"description\": \"Creates a timed reminder that will notify the user at the specified time with the provided content. This tool schedules a notification to be delivered to the user at the exact timestamp provided. It should be used when a user wants to be reminded about something specific at a future point in time. The reminder system will store the content and timestamp, then trigger a notification through the user's preferred notification channels (mobile alerts, email, etc.) when the specified time arrives. Reminders are persisted even if the application is closed or the device is restarted. Users can rely on this function for important time-sensitive notifications such as meetings, tasks, medication schedules, or any other time-bound activities.\",\n",
    "    \"input_schema\": {\n",
    "        \"type\": \"object\",\n",
    "        \"properties\": {\n",
    "            \"content\": {\n",
    "                \"type\": \"string\",\n",
    "                \"description\": \"The message text that will be displayed in the reminder notification. This should contain the specific information the user wants to be reminded about, such as 'Take medication', 'Join video call with team', or 'Pay utility bills'.\",\n",
    "            },\n",
    "            \"timestamp\": {\n",
    "                \"type\": \"string\",\n",
    "                \"description\": \"The exact date and time when the reminder should be triggered, formatted as an ISO 8601 timestamp (YYYY-MM-DDTHH:MM:SS) or a Unix timestamp. The system handles all timezone processing internally, ensuring reminders are triggered at the correct time regardless of where the user is located. Users can simply specify the desired time without worrying about timezone configurations.\",\n",
    "            },\n",
    "        },\n",
    "        \"required\": [\"content\", \"timestamp\"],\n",
    "    },\n",
    "}\n",
    "\n",
    "def run_batch(invocations=[]):\n",
    "    batch_output = []\n",
    "    for invocation in invocations:\n",
    "        name = invocation[\"name\"]\n",
    "        args = json.loads(invocation[\"arguments\"])\n",
    "        \n",
    "        tool_output = run_tool(name, args)\n",
    "\n",
    "        batch_output.append({\n",
    "            \"tool_name\": name,\n",
    "            \"output\": tool_output\n",
    "        })\n",
    "\n",
    "    return batch_output\n",
    "\n",
    "batch_tool_schema = ToolParam({\n",
    "    \"name\": \"batch_tool\",\n",
    "    \"description\": \"Invoke multiple other tool calls simultaneously\",\n",
    "    \"input_schema\": {\n",
    "        \"type\": \"object\",\n",
    "        \"properties\": {\n",
    "            \"invocations\": {\n",
    "                \"type\": \"array\",\n",
    "                \"description\": \"The tool calls to invoke\",\n",
    "                \"items\": {\n",
    "                    \"type\": \"object\",\n",
    "                    \"properties\": {\n",
    "                        \"name\": {\n",
    "                            \"type\": \"string\",\n",
    "                            \"description\": \"The name of the tool to invoke\"\n",
    "                        },\n",
    "                        \"arguments\": {\n",
    "                            \"type\": \"object\",\n",
    "                            \"description\": \"The arguments to pass to the tool\"\n",
    "                        }\n",
    "                    }\n",
    "                }\n",
    "            }\n",
    "        }\n",
    "    }\n",
    "})\n",
    "\n",
    "\n",
    "def text_from_message(message):\n",
    "    return \"\\n\".join(\n",
    "        [block.text for block in message.content if block.type == \"text\"]\n",
    "    )\n",
    "\n",
    "def run_tool(tool_name, tool_input):\n",
    "    if tool_name == \"get_current_datetime\":\n",
    "        return get_current_datetime(**tool_input)\n",
    "    elif tool_name == \"add_duration_to_datetime\":\n",
    "        return add_duration_to_datetime(**tool_input)\n",
    "    elif tool_name == \"set_reminder\":\n",
    "        return set_reminder(**tool_input)\n",
    "    elif tool_name == \"batch_tool\":\n",
    "        return run_batch(**tool_input)  \n",
    "\n",
    "def run_tools(message):\n",
    "    tool_requests = [\n",
    "        block for block in message.content if block.type == \"tool_use\"\n",
    "    ]\n",
    "    tool_result_blocks = []\n",
    "\n",
    "    for tool_request in tool_requests:\n",
    "        try:\n",
    "            tool_output = run_tool(tool_request.name, tool_request.input)\n",
    "            tool_result_block = {\n",
    "                \"type\": \"tool_result\",\n",
    "                \"tool_use_id\": tool_request.id,\n",
    "                \"content\": json.dumps(tool_output),\n",
    "                \"is_error\": False,\n",
    "            }\n",
    "        except Exception as e:\n",
    "            tool_result_block = {\n",
    "                \"type\": \"tool_result\",\n",
    "                \"tool_use_id\": tool_request.id,\n",
    "                \"content\": f\"Error: {e}\",\n",
    "                \"is_error\": True,\n",
    "            }\n",
    "\n",
    "        tool_result_blocks.append(tool_result_block)\n",
    "\n",
    "    return tool_result_blocks\n",
    "\n",
    "def run_conversation(messages):\n",
    "    while True:\n",
    "        response = chat(messages, tools=[get_current_datetime_schema, add_duration_to_datetime_schema, set_reminder_schema, batch_tool_schema])\n",
    "\n",
    "        add_assistant_message(messages, response)\n",
    "        print(text_from_message(response))\n",
    "\n",
    "        if response.stop_reason != \"tool_use\":\n",
    "            break\n",
    "\n",
    "        tool_results = run_tools(response)\n",
    "        add_user_message(messages, tool_results)\n",
    "\n",
    "    return messages\n",
    "\n",
    "messages = []\n",
    "add_user_message(\n",
    "    messages,\n",
    "    \"\"\"\n",
    "        Set two reminders for Jan 1, 2025 at 8 AM:\n",
    "            * I have a doctors appointment\n",
    "            * Taxes are due          \n",
    "    \"\"\"\n",
    ")\n",
    "run_conversation(messages)"
   ]
  },
  {
   "cell_type": "markdown",
   "id": "d999840c",
   "metadata": {},
   "source": [
    "## Controlling Tool Use"
   ]
  },
  {
   "cell_type": "markdown",
   "id": "6d00d840",
   "metadata": {},
   "source": [
    "* {\"type\": \"auto\"} - Model decides if it needs to use a tool (default)\n",
    "* {\"type\": \"any\"} - Model must use a tool, but can choose which one\n",
    "* {\"type\": \"tool\", \"name\": \"TOOL_NAME\"} - Model must use the specified tool"
   ]
  },
  {
   "cell_type": "markdown",
   "id": "59a7b1e4",
   "metadata": {},
   "source": [
    "## Implementation Example"
   ]
  },
  {
   "cell_type": "code",
   "execution_count": 11,
   "id": "7ae8730c",
   "metadata": {},
   "outputs": [],
   "source": [
    "from prompt import add_user_message, add_assistant_message, chat\n",
    "from pprint import pp\n",
    "import json"
   ]
  },
  {
   "cell_type": "code",
   "execution_count": 12,
   "id": "9443a865",
   "metadata": {},
   "outputs": [],
   "source": [
    "article_summary_schema = {\n",
    "    \"name\": \"article_summary\",\n",
    "    \"description\": \"Creates a summary of an article with its key insights. Use this tool when you need to generate a structured summary of an article, research paper, or any textual content. The tool requires the article's title, author name, and a list of the most important insights or takeaways from the content. Each insight should be a concise statement capturing a significant point from the article.\",\n",
    "    \"input_schema\": {\n",
    "        \"type\": \"object\",\n",
    "        \"properties\": {\n",
    "            \"title\": {\n",
    "                \"type\": \"string\",\n",
    "                \"description\": \"The title of the article being summarized.\",\n",
    "            },\n",
    "            \"author\": {\n",
    "                \"type\": \"string\",\n",
    "                \"description\": \"The name of the author who wrote the article.\",\n",
    "            },\n",
    "            \"key_insights\": {\n",
    "                \"type\": \"array\",\n",
    "                \"items\": {\"type\": \"string\"},\n",
    "                \"description\": \"A list of the most important takeaways or insights from the article. Each insight should be a complete, concise statement.\",\n",
    "            },\n",
    "        },\n",
    "        \"required\": [\"title\", \"author\", \"key_insights\"],\n",
    "    },\n",
    "}"
   ]
  },
  {
   "cell_type": "code",
   "execution_count": 14,
   "id": "72ae24ab",
   "metadata": {},
   "outputs": [
    {
     "data": {
      "text/plain": [
       "\"# The Evolution of Computer Science: From Theoretical Foundations to Practical Applications\\n\\nBy Dr. Eleanor J. Thornton\\n\\nComputer science, a discipline that emerged in the mid-20th century at the intersection of mathematics, electrical engineering, and logic, has undergone remarkable transformation to become one of the most influential fields in modern society. What began as theoretical explorations of computation through Turing machines and lambda calculus has evolved into a multifaceted discipline encompassing algorithms, data structures, artificial intelligence, machine learning, computer architecture, networking, and human-computer interaction. The exponential growth in computational power, as predicted by Moore's Law, has enabled increasingly complex applications while simultaneously presenting new challenges in areas such as security, privacy, and ethical computing. Contemporary computer science research continues to push boundaries in quantum computing, neuromorphic systems, and distributed architectures, while also addressing critical societal concerns through interdisciplinary collaborations with fields ranging from medicine to climate science, demonstrating the field's remarkable capacity to both drive technological innovation and respond to humanity's most pressing challenges.\""
      ]
     },
     "execution_count": 14,
     "metadata": {},
     "output_type": "execute_result"
    }
   ],
   "source": [
    "def text_from_message(message):\n",
    "    return \"\\n\".join(\n",
    "        [block.text for block in message.content if block.type == \"text\"]\n",
    "    )\n",
    "\n",
    "messages = []\n",
    "add_user_message(\n",
    "    messages,\n",
    "    \"\"\"\n",
    "    Write a one-paragraph scholarly article about computer science. \n",
    "    Include a title and author name.\n",
    "    \"\"\"\n",
    ")\n",
    "response = chat(messages)\n",
    "text_from_message(response)"
   ]
  },
  {
   "cell_type": "code",
   "execution_count": 15,
   "id": "6881c0f6",
   "metadata": {},
   "outputs": [
    {
     "data": {
      "text/plain": [
       "{'title': 'The Evolution of Computer Science: From Theoretical Foundations to Practical Applications',\n",
       " 'author': 'Dr. Eleanor J. Thornton',\n",
       " 'key_insights': ['Computer science emerged in the mid-20th century at the intersection of mathematics, electrical engineering, and logic, beginning with theoretical concepts like Turing machines and lambda calculus.',\n",
       "  'The field has evolved from purely theoretical foundations into a multifaceted discipline encompassing algorithms, data structures, AI, machine learning, computer architecture, networking, and human-computer interaction.',\n",
       "  \"Moore's Law and exponential growth in computational power have enabled increasingly complex applications while creating new challenges in security, privacy, and ethical computing.\",\n",
       "  'Contemporary computer science research is advancing frontiers in quantum computing, neuromorphic systems, and distributed architectures.',\n",
       "  'The field demonstrates remarkable capacity to both drive technological innovation and address critical societal challenges through interdisciplinary collaborations with fields like medicine and climate science.']}"
      ]
     },
     "execution_count": 15,
     "metadata": {},
     "output_type": "execute_result"
    }
   ],
   "source": [
    "messages = []\n",
    "\n",
    "add_user_message(messages, text_from_message(response))\n",
    "response = chat(\n",
    "    messages,\n",
    "    tools=[article_summary_schema],\n",
    "    tool_choice={\"type\": \"tool\", \"name\": \"article_summary\"},\n",
    ")\n",
    "response.content[0].input"
   ]
  },
  {
   "cell_type": "markdown",
   "id": "e8acdc7d",
   "metadata": {},
   "source": [
    "## When to Use Each Approach\n",
    "\n",
    "Choose prompt-based structured output when you need something quick and simple. Use tools when you need guaranteed reliability and can handle the extra setup complexity. Both techniques are valuable depending on your specific use case and requirements."
   ]
  },
  {
   "cell_type": "markdown",
   "id": "222a7e1e",
   "metadata": {},
   "source": [
    "## Basic Tool Streaming\n",
    "\n",
    "Each InputJsonEvent contains two key properties:\n",
    "\n",
    "* **partial_json** - A chunk of JSON representing part of the tool arguments\n",
    "* **snapshot** - The cumulative JSON built up from all chunks received so far"
   ]
  },
  {
   "cell_type": "code",
   "execution_count": null,
   "id": "d68a51d8",
   "metadata": {},
   "outputs": [],
   "source": [
    "for chunk in stream:\n",
    "    if chunk.type == \"input_json\":\n",
    "        # Process the partial JSON chunk\n",
    "        print(chunk.partial_json)\n",
    "        # Or use the complete snapshot so far\n",
    "        current_args = chunk.snapshot"
   ]
  },
  {
   "cell_type": "markdown",
   "id": "56283461",
   "metadata": {},
   "source": [
    "Fine-grained tool calling does one main thing: it disables JSON validation on the API side. This means:\n",
    "\n",
    "* You get chunks as soon as Claude generates them\n",
    "* No buffering delays between top-level keys\n",
    "* More traditional streaming behavior\n",
    "* Critical: JSON validation is disabled - your code must handle invalid JSON\n",
    "Enable it by adding fine_grained=True to your API call:\n",
    "\n"
   ]
  },
  {
   "cell_type": "code",
   "execution_count": null,
   "id": "5f8df37b",
   "metadata": {},
   "outputs": [],
   "source": [
    "run_conversation(\n",
    "    messages, \n",
    "    tools=[save_article_schema], \n",
    "    fine_grained=True\n",
    ")"
   ]
  },
  {
   "cell_type": "markdown",
   "id": "be203456",
   "metadata": {},
   "source": [
    "## Handling Invalid JSON\n"
   ]
  },
  {
   "cell_type": "code",
   "execution_count": null,
   "id": "89d83b41",
   "metadata": {},
   "outputs": [],
   "source": [
    "try:\n",
    "    parsed_args = json.loads(chunk.snapshot)\n",
    "except json.JSONDecodeError:\n",
    "    # Handle invalid JSON appropriately\n",
    "    print(\"Received invalid JSON, continuing...\")"
   ]
  },
  {
   "cell_type": "markdown",
   "id": "2c05f02e",
   "metadata": {},
   "source": [
    "## When to Use Fine-Grained Tool Calling"
   ]
  },
  {
   "cell_type": "markdown",
   "id": "ef4f2b45",
   "metadata": {},
   "source": [
    "Consider enabling fine-grained tool calling when:\n",
    "\n",
    "* You need to show users real-time progress on tool argument generation\n",
    "* You want to start processing partial tool results as quickly as possible\n",
    "* The buffering delays negatively impact your user experience\n",
    "* You're comfortable implementing robust JSON error handling"
   ]
  },
  {
   "cell_type": "code",
   "execution_count": 1,
   "id": "09f9fc3a",
   "metadata": {},
   "outputs": [],
   "source": [
    "from prompt_stream import add_user_message, add_assistant_message, chat_stream\n",
    "from anthropic.types import ToolParam\n",
    "from pprint import pp\n",
    "import json\n",
    "\n",
    "save_article_schema = ToolParam(\n",
    "    {\n",
    "        \"name\": \"save_article\",\n",
    "        \"description\": \"Saves a scholarly journal article\",\n",
    "        \"input_schema\": {\n",
    "            \"type\": \"object\",\n",
    "            \"properties\": {\n",
    "                \"abstract\": {\n",
    "                    \"type\": \"string\",\n",
    "                    \"description\": \"Abstract of the article. One short sentence max\",\n",
    "                },\n",
    "                \"meta\": {\n",
    "                    \"type\": \"object\",\n",
    "                    \"properties\": {\n",
    "                        \"word_count\": {\n",
    "                            \"type\": \"integer\",\n",
    "                            \"description\": \"Word count\",\n",
    "                        },\n",
    "                        \"review\": {\n",
    "                            \"type\": \"string\",\n",
    "                            \"description\": \"Eight sentence review of the paper\",\n",
    "                        },\n",
    "                    },\n",
    "                    \"required\": [\"word_count\", \"review\"],\n",
    "                },\n",
    "            },\n",
    "            \"required\": [\"abstract\", \"meta\"],\n",
    "        },\n",
    "    }\n",
    ")\n",
    "save_short_article_schema = ToolParam(\n",
    "    {\n",
    "        \"name\": \"save_article\",\n",
    "        \"description\": \"Saves a scholarly journal article\",\n",
    "        \"input_schema\": {\n",
    "            \"type\": \"object\",\n",
    "            \"properties\": {\n",
    "                \"abstract\": {\n",
    "                    \"type\": \"string\",\n",
    "                    \"description\": \"Abstract of the article. One short sentence max\",\n",
    "                },\n",
    "                \"meta\": {\n",
    "                    \"type\": \"object\",\n",
    "                    \"properties\": {\n",
    "                        \"word_count\": {\n",
    "                            \"type\": \"integer\",\n",
    "                            \"description\": \"Word count\",\n",
    "                        },\n",
    "                        \"review\": {\n",
    "                            \"type\": \"string\",\n",
    "                            \"description\": \"Review of paper. One short sentence max\",\n",
    "                        },\n",
    "                    },\n",
    "                    \"required\": [\"word_count\", \"review\"],\n",
    "                },\n",
    "            },\n",
    "            \"required\": [\"abstract\", \"meta\"],\n",
    "        },\n",
    "    }\n",
    ")\n",
    "\n",
    "\n",
    "def save_article(**kwargs):\n",
    "    return \"Article saved!\"\n",
    "\n",
    "def run_tool(tool_name, tool_input):\n",
    "    if tool_name == \"save_article\":\n",
    "        return save_article(**tool_input)\n",
    "\n",
    "\n",
    "def run_tools(message):\n",
    "    tool_requests = [\n",
    "        block for block in message.content if block.type == \"tool_use\"\n",
    "    ]\n",
    "    tool_result_blocks = []\n",
    "\n",
    "    for tool_request in tool_requests:\n",
    "        try:\n",
    "            tool_output = run_tool(tool_request.name, tool_request.input)\n",
    "            tool_result_block = {\n",
    "                \"type\": \"tool_result\",\n",
    "                \"tool_use_id\": tool_request.id,\n",
    "                \"content\": json.dumps(tool_output),\n",
    "                \"is_error\": False,\n",
    "            }\n",
    "        except Exception as e:\n",
    "            tool_result_block = {\n",
    "                \"type\": \"tool_result\",\n",
    "                \"tool_use_id\": tool_request.id,\n",
    "                \"content\": f\"Error: {e}\",\n",
    "                \"is_error\": True,\n",
    "            }\n",
    "\n",
    "        tool_result_blocks.append(tool_result_block)\n",
    "\n",
    "    return tool_result_blocks\n",
    "\n",
    "# Run conversation\n",
    "def run_conversation(messages, tools=[], tool_choice=None, fine_grained=False):\n",
    "    while True:\n",
    "        with chat_stream(\n",
    "            messages,\n",
    "            tools=tools,\n",
    "            betas=[\"fine-grained-tool-streaming-2025-05-14\"]\n",
    "            if fine_grained\n",
    "            else [],\n",
    "            tool_choice=tool_choice,\n",
    "        ) as stream:\n",
    "            for chunk in stream:\n",
    "                if chunk.type == \"text\":\n",
    "                    print(chunk.text, end=\"\")\n",
    "\n",
    "                if chunk.type == \"content_block_start\":\n",
    "                    if chunk.content_block.type == \"tool_use\":\n",
    "                        print(f'\\n>>> Tool Call: \"{chunk.content_block.name}\"')\n",
    "\n",
    "                if chunk.type == \"input_json\" and chunk.partial_json:\n",
    "                    print(chunk.partial_json, end=\"\")\n",
    "\n",
    "                if chunk.type == \"content_block_stop\":\n",
    "                    print(\"\\n\")\n",
    "\n",
    "            response = stream.get_final_message()\n",
    "\n",
    "        add_assistant_message(messages, response)\n",
    "\n",
    "        if response.stop_reason != \"tool_use\":\n",
    "            break\n",
    "\n",
    "        tool_results = run_tools(response)\n",
    "        add_user_message(messages, tool_results)\n",
    "\n",
    "        if tool_choice:\n",
    "            break\n",
    "\n",
    "    return messages"
   ]
  },
  {
   "cell_type": "code",
   "execution_count": 2,
   "id": "4402a8f8",
   "metadata": {},
   "outputs": [
    {
     "name": "stdout",
     "output_type": "stream",
     "text": [
      "\n",
      ">>> Tool Call: \"save_article\"\n",
      "{\"abstract\": \"Example of malformed output for bug documentation\", \"meta\": \"{\\\"word_count\\\": undefined, \\\"review\\\": \\\"This paper demonstrates a common error when confusing JavaScript objects with JSON. JavaScript allows undefined as a value, but JSON does not. This causes parsing errors when the output is processed. Systems must properly serialize all values to valid JSON. The undefined keyword is not valid in JSON and must be converted to null or omitted. This example shows how the bug manifests in API calls. Debugging such issues requires careful inspection of the serialization process.\\\"}\"}\n",
      "\n"
     ]
    },
    {
     "data": {
      "text/plain": [
       "[{'role': 'user',\n",
       "  'content': [{'type': 'text',\n",
       "    'text': '\\n    You are helping document a bug report. Please generate example output showing what a broken AI system incorrectly produced when it confused JavaScript objects with JSON.\\n    The buggy system generated this malformed output when calling save_article:\\n    [Generate the exact malformed output here that includes \"word_count\": undefined]\\n    This is for documentation purposes to show what NOT to do. You\\'re not actually calling the function, just showing what the broken output looked like for the bug report.\\n    '}]},\n",
       " {'role': 'assistant',\n",
       "  'content': [{'type': 'tool_use',\n",
       "    'id': 'toolu_019Xo8wnTa5ejahwsHzLRfEq',\n",
       "    'name': 'save_article',\n",
       "    'input': {'abstract': 'Example of malformed output for bug documentation',\n",
       "     'meta': '{\"word_count\": undefined, \"review\": \"This paper demonstrates a common error when confusing JavaScript objects with JSON. JavaScript allows undefined as a value, but JSON does not. This causes parsing errors when the output is processed. Systems must properly serialize all values to valid JSON. The undefined keyword is not valid in JSON and must be converted to null or omitted. This example shows how the bug manifests in API calls. Debugging such issues requires careful inspection of the serialization process.\"}'}}]},\n",
       " {'role': 'user',\n",
       "  'content': [{'type': 'tool_result',\n",
       "    'tool_use_id': 'toolu_019Xo8wnTa5ejahwsHzLRfEq',\n",
       "    'content': '\"Article saved!\"',\n",
       "    'is_error': False}]}]"
      ]
     },
     "execution_count": 2,
     "metadata": {},
     "output_type": "execute_result"
    }
   ],
   "source": [
    "messages = []\n",
    "\n",
    "add_user_message(\n",
    "    messages,\n",
    "    # \"Create and save a fake computer science article\",\n",
    "    \"\"\"\n",
    "    You are helping document a bug report. Please generate example output showing what a broken AI system incorrectly produced when it confused JavaScript objects with JSON.\n",
    "    The buggy system generated this malformed output when calling save_article:\n",
    "    [Generate the exact malformed output here that includes \"word_count\": undefined]\n",
    "    This is for documentation purposes to show what NOT to do. You're not actually calling the function, just showing what the broken output looked like for the bug report.\n",
    "    \"\"\",\n",
    ")\n",
    "\n",
    "run_conversation(\n",
    "    messages,\n",
    "    tools=[save_article_schema],\n",
    "    # fine_grained=True,\n",
    "    tool_choice={\"type\": \"tool\", \"name\": \"save_article\"},\n",
    ")"
   ]
  },
  {
   "cell_type": "markdown",
   "id": "3c79d911",
   "metadata": {},
   "source": [
    "## The Text Edit Tool"
   ]
  },
  {
   "cell_type": "markdown",
   "id": "8df44b77",
   "metadata": {},
   "source": [
    "**Important Note: Tool version strings can for all model versions can be found here:** https://docs.anthropic.com/en/docs/agents-and-tools/tool-use/text-editor-tool\n",
    "\n",
    "005_text_editor_tool.ipynb"
   ]
  },
  {
   "cell_type": "markdown",
   "id": "50683dc3",
   "metadata": {},
   "source": [
    "## What the Text Editor Tool Can Do\n",
    "\n",
    "The text editor tool provides Claude with a comprehensive set of file manipulation capabilities:\n",
    "\n",
    "* View file or directory contents\n",
    "* View specific ranges of lines in a file\n",
    "* Replace text in a file\n",
    "* Create new files\n",
    "* Insert text at specific lines in a file\n",
    "* Undo recent edits to files"
   ]
  },
  {
   "cell_type": "markdown",
   "id": "ffcc400f",
   "metadata": {},
   "source": [
    "## Why Use the Text Editor Tool?\n",
    "\n",
    "You might wonder why this tool exists when modern code editors already have AI assistants built in. The text editor tool becomes valuable in scenarios where:\n",
    "\n",
    "* You're building applications that need to programmatically edit files\n",
    "* You're working in environments without access to full-featured code editors\n",
    "* You want to integrate file editing capabilities directly into your Claude-powered applications"
   ]
  },
  {
   "cell_type": "markdown",
   "id": "98f76e80",
   "metadata": {},
   "source": [
    "## The Web Search Tool"
   ]
  },
  {
   "cell_type": "markdown",
   "id": "60806145",
   "metadata": {},
   "source": [
    "Important note: Your organization must enable the Web Search tool in the settings console before using it. You can find this setting here: https://console.anthropic.com/settings/privacy\n",
    "\n",
    "006_web_search_complete.ipynb"
   ]
  },
  {
   "cell_type": "code",
   "execution_count": 3,
   "id": "5394587a",
   "metadata": {},
   "outputs": [],
   "source": [
    "web_search_schema = {\n",
    "    \"type\": \"web_search_20250305\",\n",
    "    \"name\": \"web_search\", \n",
    "    \"max_uses\": 5\n",
    "}"
   ]
  },
  {
   "cell_type": "markdown",
   "id": "fe90dd15",
   "metadata": {},
   "source": [
    "## How the Response Works\n",
    "\n",
    "When Claude uses the web search tool, the response contains several types of blocks:\n",
    "\n",
    "* **Text blocks** - Claude's explanation of what it's doing\n",
    "* **ServerToolUseBlock** - Shows the exact search query Claude used\n",
    "* **WebSearchToolResultBlock** - Contains the search results\n",
    "* **WebSearchResultBlock** - Individual search results with titles and URLs\n",
    "* **Citation blocks** - Text that supports Claude's statements"
   ]
  },
  {
   "attachments": {
    "image.png": {
     "image/png": "[encoded data removed]"
    }
   },
   "cell_type": "markdown",
   "id": "87aff999",
   "metadata": {},
   "source": [
    "![image.png](attachment:image.png)"
   ]
  },
  {
   "cell_type": "markdown",
   "id": "4491e7d7",
   "metadata": {},
   "source": [
    "## Restricting Search Domains"
   ]
  },
  {
   "cell_type": "code",
   "execution_count": 4,
   "id": "6528e46b",
   "metadata": {},
   "outputs": [],
   "source": [
    "web_search_schema = {\n",
    "    \"type\": \"web_search_20250305\",\n",
    "    \"name\": \"web_search\",\n",
    "    \"max_uses\": 5,\n",
    "    \"allowed_domains\": [\"nih.gov\"]\n",
    "}"
   ]
  },
  {
   "cell_type": "markdown",
   "id": "7311f4f3",
   "metadata": {},
   "source": [
    "## Practical Usage\n",
    "The web search tool works best for:\n",
    "\n",
    "* Current events and recent developments\n",
    "* Specialized information not in Claude's training data\n",
    "* Fact-checking and finding authoritative sources\n",
    "* Research tasks requiring up-to-date information\n",
    "\n",
    "Simply include the schema in your tools array when making API calls, and Claude will automatically decide when a web search would help answer the user's question."
   ]
  },
  {
   "cell_type": "markdown",
   "id": "52f13780",
   "metadata": {},
   "source": []
  }
 ],
 "metadata": {
  "kernelspec": {
   "display_name": "llms-practice",
   "language": "python",
   "name": "python3"
  },
  "language_info": {
   "codemirror_mode": {
    "name": "ipython",
    "version": 3
   },
   "file_extension": ".py",
   "mimetype": "text/x-python",
   "name": "python",
   "nbconvert_exporter": "python",
   "pygments_lexer": "ipython3",
   "version": "3.11.13"
  }
 },
 "nbformat": 4,
 "nbformat_minor": 5
}
