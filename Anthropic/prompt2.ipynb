{
 "cells": [
  {
   "cell_type": "markdown",
   "id": "0308779d",
   "metadata": {},
   "source": [
    "## Temperature"
   ]
  },
  {
   "cell_type": "code",
   "execution_count": null,
   "id": "42581f03",
   "metadata": {},
   "outputs": [
    {
     "data": {
      "text/plain": [
       "\"Here's a concise function to check for duplicate characters in a string:\\n\\n```python\\ndef has_duplicates(s):\\n    return len(s) != len(set(s))\\n```\\n\\nOr if you want to find the duplicate characters:\\n\\n```python\\ndef find_duplicates(s):\\n    return {c for c in s if s.count(c) > 1}\\n```\\n\\nBoth functions are one-liners that efficiently solve the problem using Python's built-in data structures.\""
      ]
     },
     "execution_count": 4,
     "metadata": {},
     "output_type": "execute_result"
    }
   ],
   "source": [
    "from prompt import add_user_message, add_assistant_message, chat\n",
    "\n",
    "messages = []\n",
    "\n",
    "add_user_message(\n",
    "    messages,\n",
    "    \"Write a Python function that checks a string for duplicate characters.\"\n",
    ")\n",
    "system_prompt = \"You are a Python engineer who writes very concise code\"\n",
    "answer = chat(messages, system = system_prompt, temperature=1.0)\n",
    "\n",
    "answer"
   ]
  },
  {
   "cell_type": "markdown",
   "id": "64228d70",
   "metadata": {},
   "source": [
    "## Streaming"
   ]
  },
  {
   "cell_type": "code",
   "execution_count": 13,
   "id": "10182d6d",
   "metadata": {},
   "outputs": [],
   "source": [
    "from anthropic import Anthropic\n",
    "from dotenv import load_dotenv\n",
    "from prompt import add_user_message\n",
    "import os\n",
    "\n",
    "load_dotenv()\n",
    "Anthropic_API_Key = os.getenv(\"Anthropic_API_Key\")\n",
    "if not Anthropic_API_Key:\n",
    "    raise ValueError(\"Anthropic_API_Key is not set in the environment variables.\")\n",
    "client = Anthropic(api_key=Anthropic_API_Key)"
   ]
  },
  {
   "cell_type": "code",
   "execution_count": 16,
   "id": "e759b669",
   "metadata": {},
   "outputs": [
    {
     "name": "stdout",
     "output_type": "stream",
     "text": [
      "RawMessageStartEvent(message=Message(id='msg_011XSbyRugCwyFEiAQqhqK9W', content=[], model='claude-3-5-sonnet-20241022', role='assistant', stop_reason=None, stop_sequence=None, type='message', usage=Usage(cache_creation_input_tokens=0, cache_read_input_tokens=0, input_tokens=18, output_tokens=1, server_tool_use=None, service_tier='standard')), type='message_start')\n",
      "RawContentBlockStartEvent(content_block=TextBlock(citations=None, text='', type='text'), index=0, type='content_block_start')\n",
      "RawContentBlockDeltaEvent(delta=TextDelta(text='A', type='text_delta'), index=0, type='content_block_delta')\n",
      "RawContentBlockDeltaEvent(delta=TextDelta(text=' comprehensive', type='text_delta'), index=0, type='content_block_delta')\n",
      "RawContentBlockDeltaEvent(delta=TextDelta(text=' dataset of 10,', type='text_delta'), index=0, type='content_block_delta')\n",
      "RawContentBlockDeltaEvent(delta=TextDelta(text='000 imag', type='text_delta'), index=0, type='content_block_delta')\n",
      "RawContentBlockDeltaEvent(delta=TextDelta(text='inary butterfly', type='text_delta'), index=0, type='content_block_delta')\n",
      "RawContentBlockDeltaEvent(delta=TextDelta(text=' species, complete', type='text_delta'), index=0, type='content_block_delta')\n",
      "RawContentBlockDeltaEvent(delta=TextDelta(text=' with wing', type='text_delta'), index=0, type='content_block_delta')\n",
      "RawContentBlockDeltaEvent(delta=TextDelta(text=' patterns, migration', type='text_delta'), index=0, type='content_block_delta')\n",
      "RawContentBlockDeltaEvent(delta=TextDelta(text=' routes', type='text_delta'), index=0, type='content_block_delta')\n",
      "RawContentBlockDeltaEvent(delta=TextDelta(text=', and nec', type='text_delta'), index=0, type='content_block_delta')\n",
      "RawContentBlockDeltaEvent(delta=TextDelta(text='tar preferences across', type='text_delta'), index=0, type='content_block_delta')\n",
      "RawContentBlockDeltaEvent(delta=TextDelta(text=' fictional', type='text_delta'), index=0, type='content_block_delta')\n",
      "RawContentBlockDeltaEvent(delta=TextDelta(text=' ecosystems, carefully', type='text_delta'), index=0, type='content_block_delta')\n",
      "RawContentBlockDeltaEvent(delta=TextDelta(text=' fabric', type='text_delta'), index=0, type='content_block_delta')\n",
      "RawContentBlockDeltaEvent(delta=TextDelta(text='ated to demonstrate', type='text_delta'), index=0, type='content_block_delta')\n",
      "RawContentBlockDeltaEvent(delta=TextDelta(text=' the diversity', type='text_delta'), index=0, type='content_block_delta')\n",
      "RawContentBlockDeltaEvent(delta=TextDelta(text=' of', type='text_delta'), index=0, type='content_block_delta')\n",
      "RawContentBlockDeltaEvent(delta=TextDelta(text=' non', type='text_delta'), index=0, type='content_block_delta')\n",
      "RawContentBlockDeltaEvent(delta=TextDelta(text='-existent lep', type='text_delta'), index=0, type='content_block_delta')\n",
      "RawContentBlockDeltaEvent(delta=TextDelta(text='idopter', type='text_delta'), index=0, type='content_block_delta')\n",
      "RawContentBlockDeltaEvent(delta=TextDelta(text='an', type='text_delta'), index=0, type='content_block_delta')\n",
      "RawContentBlockDeltaEvent(delta=TextDelta(text=' life', type='text_delta'), index=0, type='content_block_delta')\n",
      "RawContentBlockDeltaEvent(delta=TextDelta(text='.', type='text_delta'), index=0, type='content_block_delta')\n",
      "RawContentBlockStopEvent(index=0, type='content_block_stop')\n",
      "RawMessageDeltaEvent(delta=Delta(stop_reason='end_turn', stop_sequence=None), type='message_delta', usage=MessageDeltaUsage(cache_creation_input_tokens=None, cache_read_input_tokens=None, input_tokens=None, output_tokens=52, server_tool_use=None))\n",
      "RawMessageStopEvent(type='message_stop')\n"
     ]
    }
   ],
   "source": [
    "messages = []\n",
    "add_user_message(messages, \"Write a 1 sentence description of a fake data\")\n",
    "\n",
    "stream = client.messages.create(\n",
    "    model=\"claude-3-5-sonnet-20241022\",\n",
    "    max_tokens=1000,\n",
    "    messages=messages,\n",
    "    stream=True\n",
    ")\n",
    "\n",
    "for event in stream:\n",
    "    print(event)"
   ]
  },
  {
   "cell_type": "markdown",
   "id": "2e43406c",
   "metadata": {},
   "source": [
    "* MessageStart - A new message is being sent\n",
    "* ContentBlockStart - Start of a new block containing text, tool use, or other content\n",
    "* ContentBlockDelta - Chunks of the actual generated text\n",
    "* ContentBlockStop - The current content block has been completed\n",
    "* MessageDelta - The current message is complete\n",
    "* MessageStop - End of information about the current message"
   ]
  },
  {
   "cell_type": "code",
   "execution_count": 22,
   "id": "c4481ee6",
   "metadata": {},
   "outputs": [],
   "source": [
    "messages = []\n",
    "add_user_message(messages, \"Write a 1 sentence description of a fake data\")\n",
    "\n",
    "with client.messages.stream(\n",
    "    model=\"claude-3-5-sonnet-20241022\",\n",
    "    max_tokens=1000,\n",
    "    messages = messages\n",
    ") as stream:\n",
    "    for text in stream.text_stream:\n",
    "        # print(text, end=\"\")\n",
    "        pass\n",
    "    final_message = stream.get_final_message()\n",
    "    final_text = stream.get_final_text()\n"
   ]
  },
  {
   "cell_type": "code",
   "execution_count": 23,
   "id": "fc27fcaa",
   "metadata": {},
   "outputs": [
    {
     "data": {
      "text/plain": [
       "Message(id='msg_01Dbnao6k8ye15kxrFzrwmEp', content=[TextBlock(citations=None, text='A comprehensive survey of 10,000 unicorn owners revealed that 87% of their mythical steeds prefer eating glitter-infused rainbows over traditional hay.', type='text')], model='claude-3-5-sonnet-20241022', role='assistant', stop_reason='end_turn', stop_sequence=None, type='message', usage=Usage(cache_creation_input_tokens=0, cache_read_input_tokens=0, input_tokens=18, output_tokens=40, server_tool_use=None, service_tier='standard'))"
      ]
     },
     "execution_count": 23,
     "metadata": {},
     "output_type": "execute_result"
    }
   ],
   "source": [
    "final_message"
   ]
  },
  {
   "cell_type": "code",
   "execution_count": 24,
   "id": "9d431069",
   "metadata": {},
   "outputs": [
    {
     "data": {
      "text/plain": [
       "'A comprehensive survey of 10,000 unicorn owners revealed that 87% of their mythical steeds prefer eating glitter-infused rainbows over traditional hay.'"
      ]
     },
     "execution_count": 24,
     "metadata": {},
     "output_type": "execute_result"
    }
   ],
   "source": [
    "final_text"
   ]
  },
  {
   "cell_type": "markdown",
   "id": "61de4ee0",
   "metadata": {},
   "source": [
    "## Prefilling"
   ]
  },
  {
   "cell_type": "code",
   "execution_count": 30,
   "id": "6f299b90",
   "metadata": {},
   "outputs": [
    {
     "name": "stdout",
     "output_type": "stream",
     "text": [
      "('The choice between tea and coffee at breakfast is largely a matter of '\n",
      " 'personal preference, as both beverages have their benefits:\\n'\n",
      " '\\n'\n",
      " 'Coffee:\\n'\n",
      " '- Higher caffeine content for quick energy boost\\n'\n",
      " '- May boost metabolism\\n'\n",
      " '- Rich in antioxidants\\n'\n",
      " '- Can improve mental alertness and focus\\n'\n",
      " '- May help prevent certain diseases\\n'\n",
      " '\\n'\n",
      " 'Tea:\\n'\n",
      " '- Lower caffeine content for gentler energy boost\\n'\n",
      " '- Less likely to cause jitters or anxiety\\n'\n",
      " '- Contains L-theanine, which promotes calm focus\\n'\n",
      " '- Various antioxidants and health benefits\\n'\n",
      " '- Less likely to cause acid reflux\\n'\n",
      " '- Multiple varieties with different benefits\\n'\n",
      " '\\n'\n",
      " 'Factors to consider:\\n'\n",
      " '- Your caffeine sensitivity\\n'\n",
      " '- Stomach sensitivity\\n'\n",
      " '- Personal taste preference\\n'\n",
      " '- Health conditions\\n'\n",
      " '- Sleep quality\\n'\n",
      " '\\n'\n",
      " 'Neither is definitively \"better\" - choose based on your individual needs and '\n",
      " 'preferences.')\n"
     ]
    }
   ],
   "source": [
    "from prompt import add_user_message, add_assistant_message, chat\n",
    "from pprint import pp\n",
    "messages = []\n",
    "\n",
    "add_user_message(messages, \"Is tea or coffee better at breakfast?\")\n",
    "answer = chat(messages)\n",
    "pp(answer)"
   ]
  },
  {
   "cell_type": "code",
   "execution_count": 31,
   "id": "8dfe3e69",
   "metadata": {},
   "outputs": [
    {
     "name": "stdout",
     "output_type": "stream",
     "text": [
      "(' it has more caffeine than tea, which helps you feel more alert and awake in '\n",
      " 'the morning. Also, coffee helps boost metabolism and mental focus. However, '\n",
      " 'tea has less caffeine and fewer negative side effects like jitters or '\n",
      " 'crashes. Tea also has unique health benefits from antioxidants. The best '\n",
      " 'choice depends on your personal preferences and caffeine tolerance.')\n"
     ]
    }
   ],
   "source": [
    "messages = []\n",
    "\n",
    "add_user_message(messages, \"Is tea or coffee better at breakfast?\")\n",
    "add_assistant_message(messages, \"Coffee is better because\")\n",
    "answer = chat(messages)\n",
    "pp(answer)"
   ]
  },
  {
   "cell_type": "code",
   "execution_count": null,
   "id": "71f8f494",
   "metadata": {},
   "outputs": [],
   "source": []
  }
 ],
 "metadata": {
  "kernelspec": {
   "display_name": "llms-practice",
   "language": "python",
   "name": "python3"
  },
  "language_info": {
   "codemirror_mode": {
    "name": "ipython",
    "version": 3
   },
   "file_extension": ".py",
   "mimetype": "text/x-python",
   "name": "python",
   "nbconvert_exporter": "python",
   "pygments_lexer": "ipython3",
   "version": "3.11.13"
  }
 },
 "nbformat": 4,
 "nbformat_minor": 5
}
