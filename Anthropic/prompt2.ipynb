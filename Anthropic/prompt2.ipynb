{
 "cells": [
  {
   "cell_type": "markdown",
   "id": "0308779d",
   "metadata": {},
   "source": [
    "## Temperature"
   ]
  },
  {
   "cell_type": "code",
   "execution_count": 6,
   "id": "42581f03",
   "metadata": {},
   "outputs": [
    {
     "data": {
      "text/plain": [
       "\"Here's a concise function to check for duplicate characters in a string:\\n\\n```python\\ndef has_duplicates(s):\\n    return len(s) != len(set(s))\\n```\\n\\nThis one-liner:\\n1. Converts string to set (which removes duplicates)\\n2. Compares lengths - if they differ, duplicates exist\\n3. Returns True if duplicates found, False otherwise\\n\\nAlternative using collections:\\n```python\\nfrom collections import Counter\\ndef has_duplicates(s):\\n    return any(count > 1 for count in Counter(s).values())\\n```\""
      ]
     },
     "execution_count": 6,
     "metadata": {},
     "output_type": "execute_result"
    }
   ],
   "source": [
    "from prompt import add_user_message, add_assistant_message, chat\n",
    "\n",
    "messages = []\n",
    "\n",
    "add_user_message(\n",
    "    messages,\n",
    "    \"Write a Python function that checks a string for duplicate characters.\"\n",
    ")\n",
    "system_prompt = \"You are a Python engineer who writes very concise code\"\n",
    "answer = chat(messages, system = system_prompt, temperature=1.0)\n",
    "\n",
    "answer"
   ]
  },
  {
   "cell_type": "markdown",
   "id": "64228d70",
   "metadata": {},
   "source": [
    "## Streaming"
   ]
  },
  {
   "cell_type": "code",
   "execution_count": 7,
   "id": "10182d6d",
   "metadata": {},
   "outputs": [],
   "source": [
    "from anthropic import Anthropic\n",
    "from dotenv import load_dotenv\n",
    "from prompt import add_user_message\n",
    "import os\n",
    "\n",
    "load_dotenv()\n",
    "Anthropic_API_Key = os.getenv(\"Anthropic_API_Key\")\n",
    "if not Anthropic_API_Key:\n",
    "    raise ValueError(\"Anthropic_API_Key is not set in the environment variables.\")\n",
    "client = Anthropic(api_key=Anthropic_API_Key)"
   ]
  },
  {
   "cell_type": "code",
   "execution_count": 8,
   "id": "e759b669",
   "metadata": {},
   "outputs": [
    {
     "name": "stdout",
     "output_type": "stream",
     "text": [
      "RawMessageStartEvent(message=Message(id='msg_01685fUiT7Vjnbha2jYnJppf', content=[], model='claude-3-5-sonnet-20241022', role='assistant', stop_reason=None, stop_sequence=None, type='message', usage=Usage(cache_creation_input_tokens=0, cache_read_input_tokens=0, input_tokens=18, output_tokens=1, server_tool_use=None, service_tier='standard')), type='message_start')\n",
      "RawContentBlockStartEvent(content_block=TextBlock(citations=None, text='', type='text'), index=0, type='content_block_start')\n",
      "RawContentBlockDeltaEvent(delta=TextDelta(text='A', type='text_delta'), index=0, type='content_block_delta')\n",
      "RawContentBlockDeltaEvent(delta=TextDelta(text=' vibrant dataset', type='text_delta'), index=0, type='content_block_delta')\n",
      "RawContentBlockDeltaEvent(delta=TextDelta(text=' pur', type='text_delta'), index=0, type='content_block_delta')\n",
      "RawContentBlockDeltaEvent(delta=TextDelta(text='port', type='text_delta'), index=0, type='content_block_delta')\n",
      "RawContentBlockDeltaEvent(delta=TextDelta(text='edly tracking', type='text_delta'), index=0, type='content_block_delta')\n",
      "RawContentBlockDeltaEvent(delta=TextDelta(text=' the frequency', type='text_delta'), index=0, type='content_block_delta')\n",
      "RawContentBlockDeltaEvent(delta=TextDelta(text=' of rainbow', type='text_delta'), index=0, type='content_block_delta')\n",
      "RawContentBlockDeltaEvent(delta=TextDelta(text='-', type='text_delta'), index=0, type='content_block_delta')\n",
      "RawContentBlockDeltaEvent(delta=TextDelta(text='colored squ', type='text_delta'), index=0, type='content_block_delta')\n",
      "RawContentBlockDeltaEvent(delta=TextDelta(text='irrels spotte', type='text_delta'), index=0, type='content_block_delta')\n",
      "RawContentBlockDeltaEvent(delta=TextDelta(text='d in urban', type='text_delta'), index=0, type='content_block_delta')\n",
      "RawContentBlockDeltaEvent(delta=TextDelta(text=' coffee shops across major', type='text_delta'), index=0, type='content_block_delta')\n",
      "RawContentBlockDeltaEvent(delta=TextDelta(text=' European', type='text_delta'), index=0, type='content_block_delta')\n",
      "RawContentBlockDeltaEvent(delta=TextDelta(text=' cities between', type='text_delta'), index=0, type='content_block_delta')\n",
      "RawContentBlockDeltaEvent(delta=TextDelta(text=' 2010-', type='text_delta'), index=0, type='content_block_delta')\n",
      "RawContentBlockDeltaEvent(delta=TextDelta(text='2020', type='text_delta'), index=0, type='content_block_delta')\n",
      "RawContentBlockDeltaEvent(delta=TextDelta(text=', myster', type='text_delta'), index=0, type='content_block_delta')\n",
      "RawContentBlockDeltaEvent(delta=TextDelta(text='iously collecte', type='text_delta'), index=0, type='content_block_delta')\n",
      "RawContentBlockDeltaEvent(delta=TextDelta(text='d by an', type='text_delta'), index=0, type='content_block_delta')\n",
      "RawContentBlockDeltaEvent(delta=TextDelta(text=' anonymous group of bar', type='text_delta'), index=0, type='content_block_delta')\n",
      "RawContentBlockDeltaEvent(delta=TextDelta(text='ista', type='text_delta'), index=0, type='content_block_delta')\n",
      "RawContentBlockDeltaEvent(delta=TextDelta(text='-zo', type='text_delta'), index=0, type='content_block_delta')\n",
      "RawContentBlockDeltaEvent(delta=TextDelta(text='ologists.', type='text_delta'), index=0, type='content_block_delta')\n",
      "RawContentBlockStopEvent(index=0, type='content_block_stop')\n",
      "RawMessageDeltaEvent(delta=Delta(stop_reason='end_turn', stop_sequence=None), type='message_delta', usage=MessageDeltaUsage(cache_creation_input_tokens=None, cache_read_input_tokens=None, input_tokens=None, output_tokens=51, server_tool_use=None))\n",
      "RawMessageStopEvent(type='message_stop')\n"
     ]
    }
   ],
   "source": [
    "messages = []\n",
    "add_user_message(messages, \"Write a 1 sentence description of a fake data\")\n",
    "\n",
    "stream = client.messages.create(\n",
    "    model=\"claude-3-5-sonnet-20241022\",\n",
    "    max_tokens=1000,\n",
    "    messages=messages,\n",
    "    stream=True\n",
    ")\n",
    "\n",
    "for event in stream:\n",
    "    print(event)"
   ]
  },
  {
   "cell_type": "markdown",
   "id": "2e43406c",
   "metadata": {},
   "source": [
    "* MessageStart - A new message is being sent\n",
    "* ContentBlockStart - Start of a new block containing text, tool use, or other content\n",
    "* ContentBlockDelta - Chunks of the actual generated text\n",
    "* ContentBlockStop - The current content block has been completed\n",
    "* MessageDelta - The current message is complete\n",
    "* MessageStop - End of information about the current message"
   ]
  },
  {
   "cell_type": "code",
   "execution_count": 9,
   "id": "c4481ee6",
   "metadata": {},
   "outputs": [],
   "source": [
    "messages = []\n",
    "add_user_message(messages, \"Write a 1 sentence description of a fake data\")\n",
    "\n",
    "with client.messages.stream(\n",
    "    model=\"claude-3-5-sonnet-20241022\",\n",
    "    max_tokens=1000,\n",
    "    messages = messages\n",
    ") as stream:\n",
    "    for text in stream.text_stream:\n",
    "        # print(text, end=\"\")\n",
    "        pass\n",
    "    final_message = stream.get_final_message()\n",
    "    final_text = stream.get_final_text()\n"
   ]
  },
  {
   "cell_type": "code",
   "execution_count": 10,
   "id": "fc27fcaa",
   "metadata": {},
   "outputs": [
    {
     "data": {
      "text/plain": [
       "Message(id='msg_01DgSiPXnCgaxBQyQyFjXPTf', content=[TextBlock(citations=None, text='Among pet owners in Springfield who exclusively feed their cats organic food, 73.2% reported their felines developed the ability to communicate telepathically with houseplants.', type='text')], model='claude-3-5-sonnet-20241022', role='assistant', stop_reason='end_turn', stop_sequence=None, type='message', usage=Usage(cache_creation_input_tokens=0, cache_read_input_tokens=0, input_tokens=18, output_tokens=38, server_tool_use=None, service_tier='standard'))"
      ]
     },
     "execution_count": 10,
     "metadata": {},
     "output_type": "execute_result"
    }
   ],
   "source": [
    "final_message"
   ]
  },
  {
   "cell_type": "code",
   "execution_count": 11,
   "id": "9d431069",
   "metadata": {},
   "outputs": [
    {
     "data": {
      "text/plain": [
       "'Among pet owners in Springfield who exclusively feed their cats organic food, 73.2% reported their felines developed the ability to communicate telepathically with houseplants.'"
      ]
     },
     "execution_count": 11,
     "metadata": {},
     "output_type": "execute_result"
    }
   ],
   "source": [
    "final_text"
   ]
  },
  {
   "cell_type": "markdown",
   "id": "61de4ee0",
   "metadata": {},
   "source": [
    "## Prefilling"
   ]
  },
  {
   "cell_type": "code",
   "execution_count": 12,
   "id": "6f299b90",
   "metadata": {},
   "outputs": [
    {
     "name": "stdout",
     "output_type": "stream",
     "text": [
      "('The choice between tea and coffee at breakfast is largely a matter of '\n",
      " 'personal preference, as both beverages have their own benefits:\\n'\n",
      " '\\n'\n",
      " 'Coffee:\\n'\n",
      " '- Higher caffeine content for quick energy boost\\n'\n",
      " '- May boost metabolism\\n'\n",
      " '- Rich in antioxidants\\n'\n",
      " '- Can improve mental alertness and focus\\n'\n",
      " '- May help prevent certain diseases\\n'\n",
      " '\\n'\n",
      " 'Tea:\\n'\n",
      " '- Lower caffeine content for gentler energy boost\\n'\n",
      " '- Contains L-theanine, which promotes calm alertness\\n'\n",
      " '- Rich in different antioxidants\\n'\n",
      " '- Less likely to cause jitters or acid reflux\\n'\n",
      " '- Generally easier on an empty stomach\\n'\n",
      " '- Many varieties to choose from\\n'\n",
      " '\\n'\n",
      " 'Factors to consider:\\n'\n",
      " '- Your caffeine sensitivity\\n'\n",
      " '- Stomach sensitivity\\n'\n",
      " '- Personal taste preference\\n'\n",
      " '- Health conditions\\n'\n",
      " '- Morning routine and energy needs\\n'\n",
      " '\\n'\n",
      " 'Neither is definitively \"better\" - choose what works best for your body and '\n",
      " 'lifestyle.')\n"
     ]
    }
   ],
   "source": [
    "from prompt import add_user_message, add_assistant_message, chat\n",
    "from pprint import pp\n",
    "messages = []\n",
    "\n",
    "add_user_message(messages, \"Is tea or coffee better at breakfast?\")\n",
    "answer = chat(messages)\n",
    "pp(answer)"
   ]
  },
  {
   "cell_type": "code",
   "execution_count": 13,
   "id": "8dfe3e69",
   "metadata": {},
   "outputs": [
    {
     "name": "stdout",
     "output_type": "stream",
     "text": [
      "(' it has more caffeine and will give you more energy in the morning. However, '\n",
      " 'tea is also a good option if you want something lighter or are sensitive to '\n",
      " 'caffeine. Both drinks have health benefits, so it really comes down to '\n",
      " 'personal preference.')\n"
     ]
    }
   ],
   "source": [
    "messages = []\n",
    "\n",
    "add_user_message(messages, \"Is tea or coffee better at breakfast?\")\n",
    "add_assistant_message(messages, \"Coffee is better because\")\n",
    "answer = chat(messages)\n",
    "pp(answer)"
   ]
  },
  {
   "cell_type": "markdown",
   "id": "71f8f494",
   "metadata": {},
   "source": [
    "## Stop Sequences"
   ]
  },
  {
   "cell_type": "code",
   "execution_count": 23,
   "id": "f267af94",
   "metadata": {},
   "outputs": [
    {
     "name": "stdout",
     "output_type": "stream",
     "text": [
      "'1\\n2\\n3\\n4\\n'\n"
     ]
    }
   ],
   "source": [
    "from prompt import add_user_message, add_assistant_message, chat\n",
    "from pprint import pp\n",
    "\n",
    "messages = []\n",
    "add_user_message(messages, \"Count from 1 to 10\")\n",
    "answer = chat(messages, stop_sequences=[\"5\"])\n",
    "pp(answer)"
   ]
  }
 ],
 "metadata": {
  "kernelspec": {
   "display_name": "llms-practice",
   "language": "python",
   "name": "python3"
  },
  "language_info": {
   "codemirror_mode": {
    "name": "ipython",
    "version": 3
   },
   "file_extension": ".py",
   "mimetype": "text/x-python",
   "name": "python",
   "nbconvert_exporter": "python",
   "pygments_lexer": "ipython3",
   "version": "3.11.13"
  }
 },
 "nbformat": 4,
 "nbformat_minor": 5
}
