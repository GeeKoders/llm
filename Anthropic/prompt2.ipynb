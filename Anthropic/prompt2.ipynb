{
 "cells": [
  {
   "cell_type": "markdown",
   "id": "0308779d",
   "metadata": {},
   "source": [
    "## Temperature"
   ]
  },
  {
   "cell_type": "code",
   "execution_count": 4,
   "id": "42581f03",
   "metadata": {},
   "outputs": [
    {
     "data": {
      "text/plain": [
       "\"Here's a concise function to check for duplicate characters in a string:\\n\\n```python\\ndef has_duplicates(s):\\n    return len(s) != len(set(s))\\n```\\n\\nOr if you want to find the duplicate characters:\\n\\n```python\\ndef find_duplicates(s):\\n    return {c for c in s if s.count(c) > 1}\\n```\\n\\nBoth functions are one-liners that efficiently solve the problem using Python's built-in data structures.\""
      ]
     },
     "execution_count": 4,
     "metadata": {},
     "output_type": "execute_result"
    }
   ],
   "source": [
    "from prompt import add_user_message, add_assistant_message, chat\n",
    "\n",
    "messages = []\n",
    "\n",
    "add_user_message(\n",
    "    messages,\n",
    "    \"Write a Python function that checks a string for duplicate characters.\"\n",
    ")\n",
    "system_prompt = \"You are a Python engineer who writes very concise code\"\n",
    "answer = chat(messages, system = system_prompt, temperature=0.0)\n",
    "\n",
    "answer"
   ]
  },
  {
   "cell_type": "code",
   "execution_count": null,
   "id": "64228d70",
   "metadata": {},
   "outputs": [],
   "source": []
  }
 ],
 "metadata": {
  "kernelspec": {
   "display_name": "llms-practice",
   "language": "python",
   "name": "python3"
  },
  "language_info": {
   "codemirror_mode": {
    "name": "ipython",
    "version": 3
   },
   "file_extension": ".py",
   "mimetype": "text/x-python",
   "name": "python",
   "nbconvert_exporter": "python",
   "pygments_lexer": "ipython3",
   "version": "3.11.13"
  }
 },
 "nbformat": 4,
 "nbformat_minor": 5
}
