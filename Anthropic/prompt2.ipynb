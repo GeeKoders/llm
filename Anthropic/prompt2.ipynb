{
 "cells": [
  {
   "cell_type": "markdown",
   "id": "0308779d",
   "metadata": {},
   "source": [
    "## Temperature"
   ]
  },
  {
   "cell_type": "code",
   "execution_count": 1,
   "id": "42581f03",
   "metadata": {},
   "outputs": [
    {
     "data": {
      "text/plain": [
       "\"Here's a concise function to check for duplicate characters in a string:\\n\\n```python\\ndef has_duplicates(s):\\n    return len(s) != len(set(s))\\n```\\n\\nAlternative with character counting:\\n```python\\ndef has_duplicates(s):\\n    return any(s.count(c) > 1 for c in s)\\n```\\n\\nBoth return True if duplicates exist, False otherwise.\""
      ]
     },
     "execution_count": 1,
     "metadata": {},
     "output_type": "execute_result"
    }
   ],
   "source": [
    "from prompt import add_user_message, add_assistant_message, chat\n",
    "\n",
    "messages = []\n",
    "\n",
    "add_user_message(\n",
    "    messages,\n",
    "    \"Write a Python function that checks a string for duplicate characters.\"\n",
    ")\n",
    "system_prompt = \"You are a Python engineer who writes very concise code\"\n",
    "answer = chat(messages, system = system_prompt, temperature=1.0)\n",
    "\n",
    "answer"
   ]
  },
  {
   "cell_type": "markdown",
   "id": "64228d70",
   "metadata": {},
   "source": [
    "## Streaming"
   ]
  },
  {
   "cell_type": "code",
   "execution_count": 2,
   "id": "10182d6d",
   "metadata": {},
   "outputs": [],
   "source": [
    "from anthropic import Anthropic\n",
    "from dotenv import load_dotenv\n",
    "from prompt import add_user_message\n",
    "import os\n",
    "\n",
    "load_dotenv()\n",
    "Anthropic_API_Key = os.getenv(\"Anthropic_API_Key\")\n",
    "if not Anthropic_API_Key:\n",
    "    raise ValueError(\"Anthropic_API_Key is not set in the environment variables.\")\n",
    "client = Anthropic(api_key=Anthropic_API_Key)"
   ]
  },
  {
   "cell_type": "code",
   "execution_count": 3,
   "id": "e759b669",
   "metadata": {},
   "outputs": [
    {
     "name": "stdout",
     "output_type": "stream",
     "text": [
      "RawMessageStartEvent(message=Message(id='msg_01BZwCU4TwmndUX4QS2H3kan', content=[], model='claude-3-5-sonnet-20241022', role='assistant', stop_reason=None, stop_sequence=None, type='message', usage=Usage(cache_creation_input_tokens=0, cache_read_input_tokens=0, input_tokens=18, output_tokens=1, server_tool_use=None, service_tier='standard')), type='message_start')\n",
      "RawContentBlockStartEvent(content_block=TextBlock(citations=None, text='', type='text'), index=0, type='content_block_start')\n",
      "RawContentBlockDeltaEvent(delta=TextDelta(text='In', type='text_delta'), index=0, type='content_block_delta')\n",
      "RawContentBlockDeltaEvent(delta=TextDelta(text=' a groundbreaking study of', type='text_delta'), index=0, type='content_block_delta')\n",
      "RawContentBlockDeltaEvent(delta=TextDelta(text=' 1,000 pen', type='text_delta'), index=0, type='content_block_delta')\n",
      "RawContentBlockDeltaEvent(delta=TextDelta(text='guins living', type='text_delta'), index=0, type='content_block_delta')\n",
      "RawContentBlockDeltaEvent(delta=TextDelta(text=' in the', type='text_delta'), index=0, type='content_block_delta')\n",
      "RawContentBlockDeltaEvent(delta=TextDelta(text=' Sahara Desert, researchers', type='text_delta'), index=0, type='content_block_delta')\n",
      "RawContentBlockDeltaEvent(delta=TextDelta(text=' found that ', type='text_delta'), index=0, type='content_block_delta')\n",
      "RawContentBlockDeltaEvent(delta=TextDelta(text='87% of them', type='text_delta'), index=0, type='content_block_delta')\n",
      "RawContentBlockDeltaEvent(delta=TextDelta(text=' preferred wearing', type='text_delta'), index=0, type='content_block_delta')\n",
      "RawContentBlockDeltaEvent(delta=TextDelta(text=' sunglasses while skat', type='text_delta'), index=0, type='content_block_delta')\n",
      "RawContentBlockDeltaEvent(delta=TextDelta(text='eboarding to', type='text_delta'), index=0, type='content_block_delta')\n",
      "RawContentBlockDeltaEvent(delta=TextDelta(text=' their daily ice cream socials.', type='text_delta'), index=0, type='content_block_delta')\n",
      "RawContentBlockStopEvent(index=0, type='content_block_stop')\n",
      "RawMessageDeltaEvent(delta=Delta(stop_reason='end_turn', stop_sequence=None), type='message_delta', usage=MessageDeltaUsage(cache_creation_input_tokens=None, cache_read_input_tokens=None, input_tokens=None, output_tokens=51, server_tool_use=None))\n",
      "RawMessageStopEvent(type='message_stop')\n"
     ]
    }
   ],
   "source": [
    "messages = []\n",
    "add_user_message(messages, \"Write a 1 sentence description of a fake data\")\n",
    "\n",
    "stream = client.messages.create(\n",
    "    model=\"claude-3-5-sonnet-20241022\",\n",
    "    max_tokens=1000,\n",
    "    messages=messages,\n",
    "    stream=True\n",
    ")\n",
    "\n",
    "for event in stream:\n",
    "    print(event)"
   ]
  },
  {
   "cell_type": "markdown",
   "id": "2e43406c",
   "metadata": {},
   "source": [
    "* MessageStart - A new message is being sent\n",
    "* ContentBlockStart - Start of a new block containing text, tool use, or other content\n",
    "* ContentBlockDelta - Chunks of the actual generated text\n",
    "* ContentBlockStop - The current content block has been completed\n",
    "* MessageDelta - The current message is complete\n",
    "* MessageStop - End of information about the current message"
   ]
  },
  {
   "cell_type": "code",
   "execution_count": 4,
   "id": "c4481ee6",
   "metadata": {},
   "outputs": [],
   "source": [
    "messages = []\n",
    "add_user_message(messages, \"Write a 1 sentence description of a fake data\")\n",
    "\n",
    "with client.messages.stream(\n",
    "    model=\"claude-3-5-sonnet-20241022\",\n",
    "    max_tokens=1000,\n",
    "    messages = messages\n",
    ") as stream:\n",
    "    \n",
    "    for text in stream.text_stream:\n",
    "        # print(text, end=\"\")\n",
    "        pass\n",
    "    final_message = stream.get_final_message()\n",
    "    final_text = stream.get_final_text()\n"
   ]
  },
  {
   "cell_type": "code",
   "execution_count": 5,
   "id": "fc27fcaa",
   "metadata": {},
   "outputs": [
    {
     "data": {
      "text/plain": [
       "Message(id='msg_01HQWspASXNGjCAX3XR3MXo9', content=[TextBlock(citations=None, text='A comprehensive survey of 10,000 pet owners revealed that cats who wear bow ties are 73% more likely to catch mice than those without accessories, according to the fictional Institute of Feline Fashion Studies.', type='text')], model='claude-3-5-sonnet-20241022', role='assistant', stop_reason='end_turn', stop_sequence=None, type='message', usage=Usage(cache_creation_input_tokens=0, cache_read_input_tokens=0, input_tokens=18, output_tokens=47, server_tool_use=None, service_tier='standard'))"
      ]
     },
     "execution_count": 5,
     "metadata": {},
     "output_type": "execute_result"
    }
   ],
   "source": [
    "final_message"
   ]
  },
  {
   "cell_type": "code",
   "execution_count": 6,
   "id": "9d431069",
   "metadata": {},
   "outputs": [
    {
     "data": {
      "text/plain": [
       "'A comprehensive survey of 10,000 pet owners revealed that cats who wear bow ties are 73% more likely to catch mice than those without accessories, according to the fictional Institute of Feline Fashion Studies.'"
      ]
     },
     "execution_count": 6,
     "metadata": {},
     "output_type": "execute_result"
    }
   ],
   "source": [
    "final_text"
   ]
  },
  {
   "cell_type": "code",
   "execution_count": 7,
   "id": "bfa5c58f",
   "metadata": {},
   "outputs": [
    {
     "name": "stdout",
     "output_type": "stream",
     "text": [
      "\"I'm functioning well and ready to help! How are you today?\"\n"
     ]
    }
   ],
   "source": [
    "from prompt import add_user_message, add_assistant_message, chat\n",
    "from pprint import pp\n",
    "messages = []\n",
    "add_user_message(messages, \"how are you?\")\n",
    "answer = chat(messages)\n",
    "pp(answer)"
   ]
  },
  {
   "cell_type": "markdown",
   "id": "61de4ee0",
   "metadata": {},
   "source": [
    "## Prefilling"
   ]
  },
  {
   "cell_type": "code",
   "execution_count": 8,
   "id": "6f299b90",
   "metadata": {},
   "outputs": [
    {
     "name": "stdout",
     "output_type": "stream",
     "text": [
      "('The choice between tea and coffee at breakfast is largely a matter of '\n",
      " 'personal preference, as both beverages have their own benefits:\\n'\n",
      " '\\n'\n",
      " 'Coffee:\\n'\n",
      " '- Higher caffeine content for quick energy boost\\n'\n",
      " '- May boost metabolism\\n'\n",
      " '- Rich in antioxidants\\n'\n",
      " '- Can improve mental alertness and focus\\n'\n",
      " '- May help prevent certain diseases\\n'\n",
      " '\\n'\n",
      " 'Tea:\\n'\n",
      " '- Lower caffeine content for gentler energy boost\\n'\n",
      " '- Less likely to cause jitters or anxiety\\n'\n",
      " '- Contains L-theanine, which promotes calm focus\\n'\n",
      " '- Rich in different antioxidants\\n'\n",
      " '- Less likely to cause acid reflux\\n'\n",
      " '- Available in many varieties (green, black, herbal)\\n'\n",
      " '\\n'\n",
      " 'Factors to consider:\\n'\n",
      " '- Your caffeine sensitivity\\n'\n",
      " '- Stomach sensitivity\\n'\n",
      " '- Personal taste preference\\n'\n",
      " '- Health conditions\\n'\n",
      " '- Daily routine and energy needs\\n'\n",
      " '\\n'\n",
      " 'Neither is definitively \"better\" - choose based on what works best for your '\n",
      " 'body and lifestyle.')\n"
     ]
    }
   ],
   "source": [
    "from prompt import add_user_message, add_assistant_message, chat\n",
    "from pprint import pp\n",
    "messages = []\n",
    "\n",
    "add_user_message(messages, \"Is tea or coffee better at breakfast?\")\n",
    "answer = chat(messages)\n",
    "pp(answer)"
   ]
  },
  {
   "cell_type": "code",
   "execution_count": 9,
   "id": "8dfe3e69",
   "metadata": {},
   "outputs": [
    {
     "name": "stdout",
     "output_type": "stream",
     "text": [
      "(' it has more caffeine and will give you more energy in the morning. However, '\n",
      " 'tea is also a good option if you prefer a milder drink or are sensitive to '\n",
      " 'caffeine. Both drinks have health benefits, so it really comes down to '\n",
      " 'personal preference.')\n"
     ]
    }
   ],
   "source": [
    "messages = []\n",
    "\n",
    "add_user_message(messages, \"Is tea or coffee better at breakfast?\")\n",
    "add_assistant_message(messages, \"Coffee is better because\")\n",
    "answer = chat(messages)\n",
    "pp(answer)"
   ]
  },
  {
   "cell_type": "markdown",
   "id": "71f8f494",
   "metadata": {},
   "source": [
    "## Stop Sequences"
   ]
  },
  {
   "cell_type": "code",
   "execution_count": 10,
   "id": "f267af94",
   "metadata": {},
   "outputs": [
    {
     "name": "stdout",
     "output_type": "stream",
     "text": [
      "'1\\n2\\n3\\n4\\n'\n"
     ]
    }
   ],
   "source": [
    "from prompt import add_user_message, add_assistant_message, chat\n",
    "from pprint import pp\n",
    "\n",
    "messages = []\n",
    "add_user_message(messages, \"Count from 1 to 10\")\n",
    "answer = chat(messages, stop_sequences=[\"5\"])\n",
    "pp(answer)"
   ]
  }
 ],
 "metadata": {
  "kernelspec": {
   "display_name": "llms-practice",
   "language": "python",
   "name": "python3"
  },
  "language_info": {
   "codemirror_mode": {
    "name": "ipython",
    "version": 3
   },
   "file_extension": ".py",
   "mimetype": "text/x-python",
   "name": "python",
   "nbconvert_exporter": "python",
   "pygments_lexer": "ipython3",
   "version": "3.11.13"
  }
 },
 "nbformat": 4,
 "nbformat_minor": 5
}
