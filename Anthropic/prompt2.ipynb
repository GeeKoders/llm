{
 "cells": [
  {
   "cell_type": "markdown",
   "id": "0308779d",
   "metadata": {},
   "source": [
    "## Temperature"
   ]
  },
  {
   "cell_type": "code",
   "execution_count": null,
   "id": "42581f03",
   "metadata": {},
   "outputs": [],
   "source": [
    "from prompt import add_user_message, add_assistant_message, chat\n",
    "\n",
    "messages = []\n",
    "\n",
    "add_user_message(\n",
    "    messages,\n",
    "    \"Write a Python function that checks a string for duplicate characters.\"\n",
    ")\n",
    "system_prompt = \"You are a Python engineer who writes very concise code\"\n",
    "answer = chat(messages, system = system_prompt, temperature=1.0)\n",
    "\n",
    "answer"
   ]
  },
  {
   "cell_type": "markdown",
   "id": "64228d70",
   "metadata": {},
   "source": [
    "## Streaming"
   ]
  },
  {
   "cell_type": "code",
   "execution_count": null,
   "id": "10182d6d",
   "metadata": {},
   "outputs": [],
   "source": [
    "from anthropic import Anthropic\n",
    "from dotenv import load_dotenv\n",
    "from prompt import add_user_message\n",
    "import os\n",
    "\n",
    "load_dotenv()\n",
    "Anthropic_API_Key = os.getenv(\"Anthropic_API_Key\")\n",
    "if not Anthropic_API_Key:\n",
    "    raise ValueError(\"Anthropic_API_Key is not set in the environment variables.\")\n",
    "client = Anthropic(api_key=Anthropic_API_Key)"
   ]
  },
  {
   "cell_type": "code",
   "execution_count": null,
   "id": "e759b669",
   "metadata": {},
   "outputs": [],
   "source": [
    "messages = []\n",
    "add_user_message(messages, \"Write a 1 sentence description of a fake data\")\n",
    "\n",
    "stream = client.messages.create(\n",
    "    model=\"claude-3-5-sonnet-20241022\",\n",
    "    max_tokens=1000,\n",
    "    messages=messages,\n",
    "    stream=True\n",
    ")\n",
    "\n",
    "for event in stream:\n",
    "    print(event)"
   ]
  },
  {
   "cell_type": "markdown",
   "id": "2e43406c",
   "metadata": {},
   "source": [
    "* MessageStart - A new message is being sent\n",
    "* ContentBlockStart - Start of a new block containing text, tool use, or other content\n",
    "* ContentBlockDelta - Chunks of the actual generated text\n",
    "* ContentBlockStop - The current content block has been completed\n",
    "* MessageDelta - The current message is complete\n",
    "* MessageStop - End of information about the current message"
   ]
  },
  {
   "cell_type": "code",
   "execution_count": null,
   "id": "c4481ee6",
   "metadata": {},
   "outputs": [],
   "source": [
    "messages = []\n",
    "add_user_message(messages, \"Write a 1 sentence description of a fake data\")\n",
    "\n",
    "with client.messages.stream(\n",
    "    model=\"claude-3-5-sonnet-20241022\",\n",
    "    max_tokens=1000,\n",
    "    messages = messages\n",
    ") as stream:\n",
    "    \n",
    "    for text in stream.text_stream:\n",
    "        # print(text, end=\"\")\n",
    "        pass\n",
    "    final_message = stream.get_final_message()\n",
    "    final_text = stream.get_final_text()\n"
   ]
  },
  {
   "cell_type": "code",
   "execution_count": null,
   "id": "fc27fcaa",
   "metadata": {},
   "outputs": [],
   "source": [
    "final_message"
   ]
  },
  {
   "cell_type": "code",
   "execution_count": null,
   "id": "9d431069",
   "metadata": {},
   "outputs": [],
   "source": [
    "final_text"
   ]
  },
  {
   "cell_type": "code",
   "execution_count": null,
   "id": "bfa5c58f",
   "metadata": {},
   "outputs": [],
   "source": [
    "from prompt import add_user_message, add_assistant_message, chat\n",
    "from pprint import pp\n",
    "messages = []\n",
    "add_user_message(messages, \"how are you?\")\n",
    "answer = chat(messages)\n",
    "pp(answer)"
   ]
  },
  {
   "cell_type": "markdown",
   "id": "61de4ee0",
   "metadata": {},
   "source": [
    "## Prefilling"
   ]
  },
  {
   "cell_type": "code",
   "execution_count": null,
   "id": "6f299b90",
   "metadata": {},
   "outputs": [],
   "source": [
    "from prompt import add_user_message, add_assistant_message, chat\n",
    "from pprint import pp\n",
    "messages = []\n",
    "\n",
    "add_user_message(messages, \"Is tea or coffee better at breakfast?\")\n",
    "answer = chat(messages)\n",
    "pp(answer)"
   ]
  },
  {
   "cell_type": "code",
   "execution_count": null,
   "id": "8dfe3e69",
   "metadata": {},
   "outputs": [],
   "source": [
    "messages = []\n",
    "\n",
    "add_user_message(messages, \"Is tea or coffee better at breakfast?\")\n",
    "add_assistant_message(messages, \"Coffee is better because\")\n",
    "answer = chat(messages)\n",
    "pp(answer)"
   ]
  },
  {
   "cell_type": "markdown",
   "id": "71f8f494",
   "metadata": {},
   "source": [
    "## Stop Sequences"
   ]
  },
  {
   "cell_type": "code",
   "execution_count": null,
   "id": "f267af94",
   "metadata": {},
   "outputs": [],
   "source": [
    "from prompt import add_user_message, add_assistant_message, chat\n",
    "\n",
    "messages = []\n",
    "add_user_message(messages, \"Count from 1 to 10\")\n",
    "answer = chat(messages, stop_sequences=[\"5\"])\n",
    "answer"
   ]
  },
  {
   "cell_type": "markdown",
   "id": "7b2765a8",
   "metadata": {},
   "source": [
    "## Structured data"
   ]
  },
  {
   "cell_type": "code",
   "execution_count": 4,
   "id": "758c0cf1",
   "metadata": {},
   "outputs": [
    {
     "name": "stdout",
     "output_type": "stream",
     "text": [
      "(\"Here's a very simple EventBridge rule in JSON format:\\n\"\n",
      " '\\n'\n",
      " '```json\\n'\n",
      " '{\\n'\n",
      " '  \"detail-type\": [\"EC2 Instance State-change Notification\"],\\n'\n",
      " '  \"source\": [\"aws.ec2\"],\\n'\n",
      " '  \"detail\": {\\n'\n",
      " '    \"state\": [\"running\", \"stopped\"]\\n'\n",
      " '  }\\n'\n",
      " '}\\n'\n",
      " '```\\n'\n",
      " '\\n'\n",
      " 'This rule matches EC2 instance state changes when instances are either '\n",
      " 'started (running) or stopped.')\n"
     ]
    }
   ],
   "source": [
    "from prompt import add_user_message, add_assistant_message, chat\n",
    "from pprint import pp\n",
    "messages = []\n",
    "add_user_message(messages, \"Generate a very short event bridge rule as json\")\n",
    "answer = chat(messages)\n",
    "pp(answer)"
   ]
  },
  {
   "cell_type": "code",
   "execution_count": 5,
   "id": "58cf4dcc",
   "metadata": {},
   "outputs": [
    {
     "name": "stdout",
     "output_type": "stream",
     "text": [
      "('\\n'\n",
      " '{\\n'\n",
      " '  \"detail-type\": [\"EC2 Instance State-change Notification\"],\\n'\n",
      " '  \"source\": [\"aws.ec2\"],\\n'\n",
      " '  \"detail\": {\\n'\n",
      " '    \"state\": [\"running\", \"stopped\"]\\n'\n",
      " '  }\\n'\n",
      " '}\\n')\n"
     ]
    }
   ],
   "source": [
    "from prompt import add_user_message, add_assistant_message, chat\n",
    "from pprint import pp\n",
    "messages = []\n",
    "add_user_message(messages, \"Generate a very short event bridge rule as json\")\n",
    "add_assistant_message(messages, \"```json\")\n",
    "answer = chat(messages, stop_sequences=[\"```\"])\n",
    "pp(answer)"
   ]
  },
  {
   "cell_type": "code",
   "execution_count": 7,
   "id": "7e2e5ebc",
   "metadata": {},
   "outputs": [
    {
     "name": "stdout",
     "output_type": "stream",
     "text": [
      "{'detail-type': ['EC2 Instance State-change Notification'],\n",
      " 'source': ['aws.ec2'],\n",
      " 'detail': {'state': ['running', 'stopped']}}\n"
     ]
    }
   ],
   "source": [
    "import json\n",
    "data = json.loads(answer)\n",
    "pp(data)"
   ]
  },
  {
   "cell_type": "code",
   "execution_count": null,
   "id": "dcf399b2",
   "metadata": {},
   "outputs": [],
   "source": []
  }
 ],
 "metadata": {
  "kernelspec": {
   "display_name": "llms-practice",
   "language": "python",
   "name": "python3"
  },
  "language_info": {
   "codemirror_mode": {
    "name": "ipython",
    "version": 3
   },
   "file_extension": ".py",
   "mimetype": "text/x-python",
   "name": "python",
   "nbconvert_exporter": "python",
   "pygments_lexer": "ipython3",
   "version": "3.11.13"
  }
 },
 "nbformat": 4,
 "nbformat_minor": 5
}
