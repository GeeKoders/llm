{
 "cells": [
  {
   "cell_type": "markdown",
   "metadata": {},
   "source": [
    "https://docs.anthropic.com/en/docs/build-with-claude/extended-thinking#feature-compatibility"
   ]
  },
  {
   "cell_type": "code",
   "execution_count": null,
   "metadata": {},
   "outputs": [],
   "source": [
    "# Load env variables and create client\n",
    "from dotenv import load_dotenv\n",
    "from anthropic import Anthropic\n",
    "import os\n",
    "load_dotenv()\n",
    "Anthropic_API_Key = os.getenv(\"Anthropic_API_Key\")\n",
    "if not Anthropic_API_Key:\n",
    "    raise ValueError(\"Anthropic_API_Key is not set in the environment variables.\")\n",
    "client = Anthropic(api_key=Anthropic_API_Key)\n",
    "model = \"claude-3-7-sonnet-latest\""
   ]
  },
  {
   "cell_type": "code",
   "execution_count": 2,
   "metadata": {},
   "outputs": [],
   "source": [
    "# Helper functions\n",
    "from anthropic.types import Message\n",
    "\n",
    "# Magic string to trigger redacted thinking\n",
    "thinking_test_str = \"ANTHROPIC_MAGIC_STRING_TRIGGER_REDACTED_THINKING_46C9A13E193C177646C7398A98432ECCCE4C1253D5E2D82641AC0E52CC2876CB\"\n",
    "\n",
    "\n",
    "def add_user_message(messages, message):\n",
    "    user_message = {\n",
    "        \"role\": \"user\",\n",
    "        \"content\": message.content if isinstance(message, Message) else message,\n",
    "    }\n",
    "    messages.append(user_message)\n",
    "\n",
    "\n",
    "def add_assistant_message(messages, message):\n",
    "    assistant_message = {\n",
    "        \"role\": \"assistant\",\n",
    "        \"content\": message.content if isinstance(message, Message) else message,\n",
    "    }\n",
    "    messages.append(assistant_message)\n",
    "\n",
    "\n",
    "def chat(\n",
    "    messages,\n",
    "    system=None,\n",
    "    temperature=1.0,\n",
    "    stop_sequences=[],\n",
    "    tools=None,\n",
    "    thinking=False,\n",
    "    thinking_budget=1024,\n",
    "):\n",
    "    params = {\n",
    "        \"model\": model,\n",
    "        \"max_tokens\": 4000,\n",
    "        \"messages\": messages,\n",
    "        \"temperature\": temperature,\n",
    "        \"stop_sequences\": stop_sequences,\n",
    "    }\n",
    "\n",
    "    if thinking:\n",
    "        params[\"thinking\"] = {\n",
    "            \"type\": \"enabled\",\n",
    "            \"budget_tokens\": thinking_budget,\n",
    "        }\n",
    "\n",
    "    if tools:\n",
    "        params[\"tools\"] = tools\n",
    "\n",
    "    if system:\n",
    "        params[\"system\"] = system\n",
    "\n",
    "    message = client.messages.create(**params)\n",
    "    return message\n",
    "\n",
    "\n",
    "def text_from_message(message):\n",
    "    return \"\\n\".join(\n",
    "        [block.text for block in message.content if block.type == \"text\"]\n",
    "    )"
   ]
  },
  {
   "cell_type": "code",
   "execution_count": 3,
   "metadata": {},
   "outputs": [
    {
     "data": {
      "text/plain": [
       "Message(id='msg_01VaxhTjfEYqzCwyd447youx', content=[RedactedThinkingBlock(data='EpEHCkYIBhgCKkBe/yP7cgdNid7LTydm6KLe4fy2BON8OxFfuMvTxdTQzaZxLsTO3y4Sy0PtdTv2wmWraWEzE4+RJE64thf2tdzZEgxKzOjB1vB8fcjG3QkaDHHDuQhWtsJQbrOzOSIwtY2wplenf4xjLPfNILQh03CVFAP7sfYHMSrMtQ9MY6Xg7IDjP/b90A2mdV9td6n2KvgFjDM59KIvzkooUmZWloKeeWDo1le81OzD9e0Bql1OhaioVjjrRfzp9yYPoADo7tDbTd9WNLupjqUCe29ydNFJTV9QXzIsHgQTUPbbfjEO4vCnPNd18eCbRhGVc8k6HgQnDRe/aV1708ejdQA+IXV5SrnBmPE4dylXARnIxH0uIMSwJbboo+A/171/iqoS81MsCoHv8G+RCFt1+4gDltUEkorZ9gG4IFraPorqu4XRJxRWQdC3jsh9ByAIJ6iWvKlkhiN+mY5kWFo/rr0NnGjJSbCD5KSJiNaKklT9ZyF8o5ulynyVCpEgpOo+SDV2WMKX54X0kd7fGNM7rw/zOtXeKDVvMr05of3dmTILpJc3fH/tewyaJj2bVIme5XNuxnm7/Fr30K9KnyF+fqz5d0ZE0jYkpBE2imhAlweylpYasDr0fDRf7n+sgsE7bsp9Sl0IsWEFpwUGF2VwxpdiDSbQYGsXvMmtNpqrs7CLJxS3gb94TkjKog9/ZEqlc/KNPPZHEo4sH6MadYDpoXS7zu8ekrGQS7agWREYRG6KAwi8Rb8KqBQYye8bhjIvI/pcuSUVRh5KPNHgU6ViQHMLNWK1xqaInM9iSdo+8ReZvsRwuhg0Ga+pdF4X69evv5eV1l0cS3lFak5s51GAT48RBWYNXSLB/VuHbOHQe8Cf+Gdu9ClH07+gmn1bm42Wg9Jz9Lp07i70z96AX18nEFT4q3u+2RKqzIFJhJX/ZpbSOG27HzhxLlEjGjkxNmsZUvrjfF39gyxpmKvZWMARCv8yWDfWoN3l4jr8PO13lp5oP/Wu5dcV/jGTq8kKIzz6r9HPXdJRRxDqh5m5zeoI6c3une8qDpo3rhMsYbW6WxNfRX8y72w1sgbtv+NDfild1d7+QREYL6fwK1oCV8HzddztYoliKx9Bb8JDARAAtRZXhUiwiVBuYDZ6NjZt+haDDPO7EYEBQZFhIVrxx0u0js4shU7knjvW0M3G9iAEMJ74NVhk4ZU+q3X9RVgPaxgB', type='redacted_thinking'), TextBlock(citations=None, text=\"I notice you've sent what appears to be some kind of command or trigger string. I don't respond to special commands or triggers like this. \\n\\nIs there something specific I can help you with today? I'm happy to answer questions, provide information, or assist with various tasks within my capabilities.\", type='text')], model='claude-3-7-sonnet-20250219', role='assistant', stop_reason='end_turn', stop_sequence=None, type='message', usage=Usage(cache_creation_input_tokens=0, cache_read_input_tokens=0, input_tokens=92, output_tokens=260, server_tool_use=None, service_tier='standard'))"
      ]
     },
     "execution_count": 3,
     "metadata": {},
     "output_type": "execute_result"
    }
   ],
   "source": [
    "messages = []\n",
    "\n",
    "add_user_message(messages, thinking_test_str)\n",
    "\n",
    "chat(messages, thinking=True)"
   ]
  },
  {
   "cell_type": "code",
   "execution_count": null,
   "metadata": {},
   "outputs": [],
   "source": []
  }
 ],
 "metadata": {
  "kernelspec": {
   "display_name": "llms-practice",
   "language": "python",
   "name": "python3"
  },
  "language_info": {
   "codemirror_mode": {
    "name": "ipython",
    "version": 3
   },
   "file_extension": ".py",
   "mimetype": "text/x-python",
   "name": "python",
   "nbconvert_exporter": "python",
   "pygments_lexer": "ipython3",
   "version": "3.11.13"
  }
 },
 "nbformat": 4,
 "nbformat_minor": 2
}
