{
 "cells": [
  {
   "cell_type": "markdown",
   "id": "1617c065",
   "metadata": {},
   "source": [
    "## Three Paths After Writing a Prompt\n",
    "\n",
    "Option 1: Test the prompt once and decide it's good enough. This carries a significant risk of breaking in production when users provide unexpected inputs.\n",
    "\n",
    "Option 2: Test the prompt a few times and tweak it to handle a corner case or two. While better than option 1, users will often provide very unexpected outputs that you haven't considered.\n",
    "\n",
    "Option 3: Run the prompt through an evaluation pipeline to score it, then iterate on the prompt based on objective metrics. This approach requires more work and cost, but gives you much more confidence in your prompt's reliability."
   ]
  },
  {
   "cell_type": "code",
   "execution_count": null,
   "id": "4407fb2c",
   "metadata": {},
   "outputs": [],
   "source": []
  }
 ],
 "metadata": {
  "language_info": {
   "name": "python"
  }
 },
 "nbformat": 4,
 "nbformat_minor": 5
}
